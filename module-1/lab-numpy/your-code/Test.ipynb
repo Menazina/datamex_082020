{
 "cells": [
  {
   "cell_type": "code",
   "execution_count": 1,
   "metadata": {},
   "outputs": [],
   "source": [
    "import numpy as np"
   ]
  },
  {
   "cell_type": "code",
   "execution_count": 2,
   "metadata": {},
   "outputs": [
    {
     "name": "stdout",
     "output_type": "stream",
     "text": [
      "1.18.1\n"
     ]
    }
   ],
   "source": [
    "print(np.version.version)"
   ]
  },
  {
   "cell_type": "code",
   "execution_count": 3,
   "metadata": {},
   "outputs": [],
   "source": [
    "a = np.random.random((2,4,5))"
   ]
  },
  {
   "cell_type": "code",
   "execution_count": 4,
   "metadata": {},
   "outputs": [
    {
     "data": {
      "text/plain": [
       "array([[[0.9329845 , 0.128101  , 0.9959487 , 0.24893868, 0.66483033],\n",
       "        [0.23502841, 0.47124833, 0.91969267, 0.07235417, 0.36104297],\n",
       "        [0.25271899, 0.1186813 , 0.01383561, 0.39026712, 0.54340306],\n",
       "        [0.72037901, 0.10107357, 0.64204159, 0.06710789, 0.63325047]],\n",
       "\n",
       "       [[0.49580425, 0.25264124, 0.87853045, 0.5972728 , 0.39760604],\n",
       "        [0.01200639, 0.47060726, 0.19327486, 0.16813585, 0.00499401],\n",
       "        [0.83336983, 0.67494004, 0.29088439, 0.53672004, 0.00818617],\n",
       "        [0.26447055, 0.75374309, 0.71532755, 0.28643655, 0.28649459]]])"
      ]
     },
     "execution_count": 4,
     "metadata": {},
     "output_type": "execute_result"
    }
   ],
   "source": [
    "a"
   ]
  },
  {
   "cell_type": "code",
   "execution_count": 5,
   "metadata": {},
   "outputs": [],
   "source": [
    "b = np.ones((5,4,2))"
   ]
  },
  {
   "cell_type": "code",
   "execution_count": 6,
   "metadata": {},
   "outputs": [
    {
     "data": {
      "text/plain": [
       "array([[[1., 1.],\n",
       "        [1., 1.],\n",
       "        [1., 1.],\n",
       "        [1., 1.]],\n",
       "\n",
       "       [[1., 1.],\n",
       "        [1., 1.],\n",
       "        [1., 1.],\n",
       "        [1., 1.]],\n",
       "\n",
       "       [[1., 1.],\n",
       "        [1., 1.],\n",
       "        [1., 1.],\n",
       "        [1., 1.]],\n",
       "\n",
       "       [[1., 1.],\n",
       "        [1., 1.],\n",
       "        [1., 1.],\n",
       "        [1., 1.]],\n",
       "\n",
       "       [[1., 1.],\n",
       "        [1., 1.],\n",
       "        [1., 1.],\n",
       "        [1., 1.]]])"
      ]
     },
     "execution_count": 6,
     "metadata": {},
     "output_type": "execute_result"
    }
   ],
   "source": [
    "b"
   ]
  },
  {
   "cell_type": "code",
   "execution_count": 7,
   "metadata": {},
   "outputs": [
    {
     "data": {
      "text/plain": [
       "False"
      ]
     },
     "execution_count": 7,
     "metadata": {},
     "output_type": "execute_result"
    }
   ],
   "source": [
    "b.shape == a.shape"
   ]
  },
  {
   "cell_type": "code",
   "execution_count": 8,
   "metadata": {},
   "outputs": [
    {
     "ename": "ValueError",
     "evalue": "operands could not be broadcast together with shapes (2,4,5) (5,4,2) ",
     "output_type": "error",
     "traceback": [
      "\u001b[0;31m---------------------------------------------------------------------------\u001b[0m",
      "\u001b[0;31mValueError\u001b[0m                                Traceback (most recent call last)",
      "\u001b[0;32m<ipython-input-8-bd58363a63fc>\u001b[0m in \u001b[0;36m<module>\u001b[0;34m\u001b[0m\n\u001b[0;32m----> 1\u001b[0;31m \u001b[0ma\u001b[0m \u001b[0;34m+\u001b[0m \u001b[0mb\u001b[0m\u001b[0;34m\u001b[0m\u001b[0;34m\u001b[0m\u001b[0m\n\u001b[0m",
      "\u001b[0;31mValueError\u001b[0m: operands could not be broadcast together with shapes (2,4,5) (5,4,2) "
     ]
    }
   ],
   "source": [
    "a + b"
   ]
  },
  {
   "cell_type": "code",
   "execution_count": 9,
   "metadata": {},
   "outputs": [
    {
     "ename": "ValueError",
     "evalue": "operands could not be broadcast together with shapes (2,4,5) (5,4,2) ",
     "output_type": "error",
     "traceback": [
      "\u001b[0;31m---------------------------------------------------------------------------\u001b[0m",
      "\u001b[0;31mValueError\u001b[0m                                Traceback (most recent call last)",
      "\u001b[0;32m<ipython-input-9-d5ce9f282037>\u001b[0m in \u001b[0;36m<module>\u001b[0;34m\u001b[0m\n\u001b[0;32m----> 1\u001b[0;31m \u001b[0mnp\u001b[0m\u001b[0;34m.\u001b[0m\u001b[0madd\u001b[0m\u001b[0;34m(\u001b[0m\u001b[0ma\u001b[0m\u001b[0;34m,\u001b[0m\u001b[0mb\u001b[0m\u001b[0;34m)\u001b[0m\u001b[0;34m\u001b[0m\u001b[0;34m\u001b[0m\u001b[0m\n\u001b[0m",
      "\u001b[0;31mValueError\u001b[0m: operands could not be broadcast together with shapes (2,4,5) (5,4,2) "
     ]
    }
   ],
   "source": [
    "np.add(a,b)"
   ]
  },
  {
   "cell_type": "markdown",
   "metadata": {},
   "source": [
    "## Is not posible because they dont have the same number of elements."
   ]
  },
  {
   "cell_type": "code",
   "execution_count": 10,
   "metadata": {},
   "outputs": [
    {
     "data": {
      "text/plain": [
       "array([[[1., 1.],\n",
       "        [1., 1.],\n",
       "        [1., 1.],\n",
       "        [1., 1.]],\n",
       "\n",
       "       [[1., 1.],\n",
       "        [1., 1.],\n",
       "        [1., 1.],\n",
       "        [1., 1.]],\n",
       "\n",
       "       [[1., 1.],\n",
       "        [1., 1.],\n",
       "        [1., 1.],\n",
       "        [1., 1.]],\n",
       "\n",
       "       [[1., 1.],\n",
       "        [1., 1.],\n",
       "        [1., 1.],\n",
       "        [1., 1.]],\n",
       "\n",
       "       [[1., 1.],\n",
       "        [1., 1.],\n",
       "        [1., 1.],\n",
       "        [1., 1.]]])"
      ]
     },
     "execution_count": 10,
     "metadata": {},
     "output_type": "execute_result"
    }
   ],
   "source": [
    "b"
   ]
  },
  {
   "cell_type": "code",
   "execution_count": 11,
   "metadata": {},
   "outputs": [],
   "source": [
    "c = b.T"
   ]
  },
  {
   "cell_type": "code",
   "execution_count": 12,
   "metadata": {},
   "outputs": [
    {
     "data": {
      "text/plain": [
       "array([[[1., 1., 1., 1., 1.],\n",
       "        [1., 1., 1., 1., 1.],\n",
       "        [1., 1., 1., 1., 1.],\n",
       "        [1., 1., 1., 1., 1.]],\n",
       "\n",
       "       [[1., 1., 1., 1., 1.],\n",
       "        [1., 1., 1., 1., 1.],\n",
       "        [1., 1., 1., 1., 1.],\n",
       "        [1., 1., 1., 1., 1.]]])"
      ]
     },
     "execution_count": 12,
     "metadata": {},
     "output_type": "execute_result"
    }
   ],
   "source": [
    "c"
   ]
  },
  {
   "cell_type": "code",
   "execution_count": 13,
   "metadata": {},
   "outputs": [],
   "source": [
    "d = np.add(a,c)"
   ]
  },
  {
   "cell_type": "code",
   "execution_count": 14,
   "metadata": {},
   "outputs": [
    {
     "data": {
      "text/plain": [
       "array([[[1.9329845 , 1.128101  , 1.9959487 , 1.24893868, 1.66483033],\n",
       "        [1.23502841, 1.47124833, 1.91969267, 1.07235417, 1.36104297],\n",
       "        [1.25271899, 1.1186813 , 1.01383561, 1.39026712, 1.54340306],\n",
       "        [1.72037901, 1.10107357, 1.64204159, 1.06710789, 1.63325047]],\n",
       "\n",
       "       [[1.49580425, 1.25264124, 1.87853045, 1.5972728 , 1.39760604],\n",
       "        [1.01200639, 1.47060726, 1.19327486, 1.16813585, 1.00499401],\n",
       "        [1.83336983, 1.67494004, 1.29088439, 1.53672004, 1.00818617],\n",
       "        [1.26447055, 1.75374309, 1.71532755, 1.28643655, 1.28649459]]])"
      ]
     },
     "execution_count": 14,
     "metadata": {},
     "output_type": "execute_result"
    }
   ],
   "source": [
    "d"
   ]
  },
  {
   "cell_type": "code",
   "execution_count": 15,
   "metadata": {},
   "outputs": [],
   "source": [
    "e = a*c"
   ]
  },
  {
   "cell_type": "code",
   "execution_count": 16,
   "metadata": {},
   "outputs": [
    {
     "data": {
      "text/plain": [
       "array([[[0.9329845 , 0.128101  , 0.9959487 , 0.24893868, 0.66483033],\n",
       "        [0.23502841, 0.47124833, 0.91969267, 0.07235417, 0.36104297],\n",
       "        [0.25271899, 0.1186813 , 0.01383561, 0.39026712, 0.54340306],\n",
       "        [0.72037901, 0.10107357, 0.64204159, 0.06710789, 0.63325047]],\n",
       "\n",
       "       [[0.49580425, 0.25264124, 0.87853045, 0.5972728 , 0.39760604],\n",
       "        [0.01200639, 0.47060726, 0.19327486, 0.16813585, 0.00499401],\n",
       "        [0.83336983, 0.67494004, 0.29088439, 0.53672004, 0.00818617],\n",
       "        [0.26447055, 0.75374309, 0.71532755, 0.28643655, 0.28649459]]])"
      ]
     },
     "execution_count": 16,
     "metadata": {},
     "output_type": "execute_result"
    }
   ],
   "source": [
    "e"
   ]
  },
  {
   "cell_type": "code",
   "execution_count": 17,
   "metadata": {},
   "outputs": [
    {
     "data": {
      "text/plain": [
       "array([[[ True,  True,  True,  True,  True],\n",
       "        [ True,  True,  True,  True,  True],\n",
       "        [ True,  True,  True,  True,  True],\n",
       "        [ True,  True,  True,  True,  True]],\n",
       "\n",
       "       [[ True,  True,  True,  True,  True],\n",
       "        [ True,  True,  True,  True,  True],\n",
       "        [ True,  True,  True,  True,  True],\n",
       "        [ True,  True,  True,  True,  True]]])"
      ]
     },
     "execution_count": 17,
     "metadata": {},
     "output_type": "execute_result"
    }
   ],
   "source": [
    "a == e"
   ]
  },
  {
   "cell_type": "markdown",
   "metadata": {},
   "source": [
    "## Is equal"
   ]
  },
  {
   "cell_type": "code",
   "execution_count": 18,
   "metadata": {},
   "outputs": [],
   "source": [
    "d_max = d.max()\n",
    "d_min = d.min()\n",
    "d_mean = d.mean()"
   ]
  },
  {
   "cell_type": "code",
   "execution_count": 19,
   "metadata": {},
   "outputs": [
    {
     "data": {
      "text/plain": [
       "1.9959486996387859"
      ]
     },
     "execution_count": 19,
     "metadata": {},
     "output_type": "execute_result"
    }
   ],
   "source": [
    "d_max"
   ]
  },
  {
   "cell_type": "code",
   "execution_count": 20,
   "metadata": {},
   "outputs": [
    {
     "data": {
      "text/plain": [
       "1.0049940079178756"
      ]
     },
     "execution_count": 20,
     "metadata": {},
     "output_type": "execute_result"
    }
   ],
   "source": [
    "d_min"
   ]
  },
  {
   "cell_type": "code",
   "execution_count": 21,
   "metadata": {},
   "outputs": [
    {
     "data": {
      "text/plain": [
       "1.4158593585084822"
      ]
     },
     "execution_count": 21,
     "metadata": {},
     "output_type": "execute_result"
    }
   ],
   "source": [
    "d_mean"
   ]
  },
  {
   "cell_type": "code",
   "execution_count": 22,
   "metadata": {},
   "outputs": [
    {
     "data": {
      "text/plain": [
       "array([[[1.9329845 , 1.128101  , 1.9959487 , 1.24893868, 1.66483033],\n",
       "        [1.23502841, 1.47124833, 1.91969267, 1.07235417, 1.36104297],\n",
       "        [1.25271899, 1.1186813 , 1.01383561, 1.39026712, 1.54340306],\n",
       "        [1.72037901, 1.10107357, 1.64204159, 1.06710789, 1.63325047]],\n",
       "\n",
       "       [[1.49580425, 1.25264124, 1.87853045, 1.5972728 , 1.39760604],\n",
       "        [1.01200639, 1.47060726, 1.19327486, 1.16813585, 1.00499401],\n",
       "        [1.83336983, 1.67494004, 1.29088439, 1.53672004, 1.00818617],\n",
       "        [1.26447055, 1.75374309, 1.71532755, 1.28643655, 1.28649459]]])"
      ]
     },
     "execution_count": 22,
     "metadata": {},
     "output_type": "execute_result"
    }
   ],
   "source": [
    "d"
   ]
  },
  {
   "cell_type": "code",
   "execution_count": 25,
   "metadata": {},
   "outputs": [],
   "source": [
    "f = np.empty((2,4,5))"
   ]
  },
  {
   "cell_type": "code",
   "execution_count": 26,
   "metadata": {},
   "outputs": [],
   "source": [
    "for i in range(len(d)):\n",
    "    for j in range(len(d[1])):\n",
    "        for k in range(len(d[0][0])):\n",
    "            if d [i][j][k] > d_min and d [i][j][k] < d_mean:\n",
    "                f [i][j][k] = 25\n",
    "            elif d [i][j][k] > d_mean and d [i][j][k] < d_max:\n",
    "                f [i][j][k] = 75\n",
    "            elif d [i][j][k] == d_mean:\n",
    "                f [i][j][k] = 50\n",
    "            elif d [i][j][k] == d_min:\n",
    "                f [i][j][k] = 0\n",
    "            else: \n",
    "                f [i][j][k] = 100"
   ]
  },
  {
   "cell_type": "code",
   "execution_count": 27,
   "metadata": {},
   "outputs": [
    {
     "data": {
      "text/plain": [
       "array([[[ 75.,  25., 100.,  25.,  75.],\n",
       "        [ 25.,  75.,  75.,  25.,  25.],\n",
       "        [ 25.,  25.,  25.,  25.,  75.],\n",
       "        [ 75.,  25.,  75.,  25.,  75.]],\n",
       "\n",
       "       [[ 75.,  25.,  75.,  75.,  25.],\n",
       "        [ 25.,  75.,  25.,  25.,   0.],\n",
       "        [ 75.,  75.,  25.,  75.,  25.],\n",
       "        [ 25.,  75.,  75.,  25.,  25.]]])"
      ]
     },
     "execution_count": 27,
     "metadata": {},
     "output_type": "execute_result"
    }
   ],
   "source": [
    "f"
   ]
  },
  {
   "cell_type": "code",
   "execution_count": 28,
   "metadata": {},
   "outputs": [],
   "source": [
    "e = np.array(f).tolist()\n"
   ]
  },
  {
   "cell_type": "code",
   "execution_count": 29,
   "metadata": {},
   "outputs": [
    {
     "data": {
      "text/plain": [
       "[[[75.0, 25.0, 100.0, 25.0, 75.0],\n",
       "  [25.0, 75.0, 75.0, 25.0, 25.0],\n",
       "  [25.0, 25.0, 25.0, 25.0, 75.0],\n",
       "  [75.0, 25.0, 75.0, 25.0, 75.0]],\n",
       " [[75.0, 25.0, 75.0, 75.0, 25.0],\n",
       "  [25.0, 75.0, 25.0, 25.0, 0.0],\n",
       "  [75.0, 75.0, 25.0, 75.0, 25.0],\n",
       "  [25.0, 75.0, 75.0, 25.0, 25.0]]]"
      ]
     },
     "execution_count": 29,
     "metadata": {},
     "output_type": "execute_result"
    }
   ],
   "source": [
    "e"
   ]
  },
  {
   "cell_type": "code",
   "execution_count": 32,
   "metadata": {},
   "outputs": [],
   "source": [
    "for i in range(len(d)):\n",
    "    for j in range(len(d[1])):\n",
    "        for k in range(len(d[0][0])):\n",
    "            if d [i][j][k] > d_min and d [i][j][k] < d_mean:\n",
    "                e [i][j][k] = \"M\"\n",
    "            elif d [i][j][k] > d_mean and d [i][j][k] < d_max:\n",
    "                e [i][j][k] = \"N\"\n",
    "            elif d [i][j][k] == d_mean:\n",
    "                e [i][j][k] = \"Q\"\n",
    "            elif d [i][j][k] == d_min:\n",
    "                e [i][j][k] = \"F\"\n",
    "            else: \n",
    "                e [i][j][k] = \"W\""
   ]
  },
  {
   "cell_type": "code",
   "execution_count": 33,
   "metadata": {},
   "outputs": [
    {
     "data": {
      "text/plain": [
       "[[['N', 'M', 'W', 'M', 'N'],\n",
       "  ['M', 'N', 'N', 'M', 'M'],\n",
       "  ['M', 'M', 'M', 'M', 'N'],\n",
       "  ['N', 'M', 'N', 'M', 'N']],\n",
       " [['N', 'M', 'N', 'N', 'M'],\n",
       "  ['M', 'N', 'M', 'M', 'F'],\n",
       "  ['N', 'N', 'M', 'N', 'M'],\n",
       "  ['M', 'N', 'N', 'M', 'M']]]"
      ]
     },
     "execution_count": 33,
     "metadata": {},
     "output_type": "execute_result"
    }
   ],
   "source": [
    "e"
   ]
  },
  {
   "cell_type": "code",
   "execution_count": null,
   "metadata": {},
   "outputs": [],
   "source": []
  }
 ],
 "metadata": {
  "kernelspec": {
   "display_name": "Python 3",
   "language": "python",
   "name": "python3"
  },
  "language_info": {
   "codemirror_mode": {
    "name": "ipython",
    "version": 3
   },
   "file_extension": ".py",
   "mimetype": "text/x-python",
   "name": "python",
   "nbconvert_exporter": "python",
   "pygments_lexer": "ipython3",
   "version": "3.7.6"
  }
 },
 "nbformat": 4,
 "nbformat_minor": 4
}
