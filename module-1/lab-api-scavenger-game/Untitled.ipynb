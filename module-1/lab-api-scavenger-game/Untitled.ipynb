{
 "cells": [
  {
   "cell_type": "markdown",
   "metadata": {},
   "source": [
    "# Challenge 1"
   ]
  },
  {
   "cell_type": "code",
   "execution_count": 2,
   "metadata": {},
   "outputs": [],
   "source": [
    "import requests as req\n",
    "import json\n",
    "import pandas as pd\n",
    "from pandas.io.json import json_normalize"
   ]
  },
  {
   "cell_type": "code",
   "execution_count": 3,
   "metadata": {},
   "outputs": [],
   "source": [
    "req_1 = req.get('https://api.github.com/repos/Os-f-dev/datamex_082020/forks')"
   ]
  },
  {
   "cell_type": "code",
   "execution_count": 4,
   "metadata": {},
   "outputs": [
    {
     "data": {
      "text/plain": [
       "<Response [200]>"
      ]
     },
     "execution_count": 4,
     "metadata": {},
     "output_type": "execute_result"
    }
   ],
   "source": [
    "req_1"
   ]
  },
  {
   "cell_type": "code",
   "execution_count": 6,
   "metadata": {},
   "outputs": [],
   "source": [
    "res = req_1.json()"
   ]
  },
  {
   "cell_type": "code",
   "execution_count": 7,
   "metadata": {},
   "outputs": [],
   "source": [
    "data = pd.DataFrame(res)"
   ]
  },
  {
   "cell_type": "code",
   "execution_count": 9,
   "metadata": {},
   "outputs": [
    {
     "data": {
      "text/html": [
       "<div>\n",
       "<style scoped>\n",
       "    .dataframe tbody tr th:only-of-type {\n",
       "        vertical-align: middle;\n",
       "    }\n",
       "\n",
       "    .dataframe tbody tr th {\n",
       "        vertical-align: top;\n",
       "    }\n",
       "\n",
       "    .dataframe thead th {\n",
       "        text-align: right;\n",
       "    }\n",
       "</style>\n",
       "<table border=\"1\" class=\"dataframe\">\n",
       "  <thead>\n",
       "    <tr style=\"text-align: right;\">\n",
       "      <th></th>\n",
       "      <th>id</th>\n",
       "      <th>node_id</th>\n",
       "      <th>name</th>\n",
       "      <th>full_name</th>\n",
       "      <th>private</th>\n",
       "      <th>owner</th>\n",
       "      <th>html_url</th>\n",
       "      <th>description</th>\n",
       "      <th>fork</th>\n",
       "      <th>url</th>\n",
       "      <th>...</th>\n",
       "      <th>forks_count</th>\n",
       "      <th>mirror_url</th>\n",
       "      <th>archived</th>\n",
       "      <th>disabled</th>\n",
       "      <th>open_issues_count</th>\n",
       "      <th>license</th>\n",
       "      <th>forks</th>\n",
       "      <th>open_issues</th>\n",
       "      <th>watchers</th>\n",
       "      <th>default_branch</th>\n",
       "    </tr>\n",
       "  </thead>\n",
       "  <tbody>\n",
       "    <tr>\n",
       "      <th>0</th>\n",
       "      <td>290047053</td>\n",
       "      <td>MDEwOlJlcG9zaXRvcnkyOTAwNDcwNTM=</td>\n",
       "      <td>datamex_082020</td>\n",
       "      <td>Menazina/datamex_082020</td>\n",
       "      <td>False</td>\n",
       "      <td>{'login': 'Menazina', 'id': 68874255, 'node_id...</td>\n",
       "      <td>https://github.com/Menazina/datamex_082020</td>\n",
       "      <td>None</td>\n",
       "      <td>True</td>\n",
       "      <td>https://api.github.com/repos/Menazina/datamex_...</td>\n",
       "      <td>...</td>\n",
       "      <td>0</td>\n",
       "      <td>None</td>\n",
       "      <td>False</td>\n",
       "      <td>False</td>\n",
       "      <td>0</td>\n",
       "      <td>{'key': 'agpl-3.0', 'name': 'GNU Affero Genera...</td>\n",
       "      <td>0</td>\n",
       "      <td>0</td>\n",
       "      <td>0</td>\n",
       "      <td>master</td>\n",
       "    </tr>\n",
       "    <tr>\n",
       "      <th>1</th>\n",
       "      <td>285669634</td>\n",
       "      <td>MDEwOlJlcG9zaXRvcnkyODU2Njk2MzQ=</td>\n",
       "      <td>datamex_082020</td>\n",
       "      <td>dxoco/datamex_082020</td>\n",
       "      <td>False</td>\n",
       "      <td>{'login': 'dxoco', 'id': 67029492, 'node_id': ...</td>\n",
       "      <td>https://github.com/dxoco/datamex_082020</td>\n",
       "      <td>None</td>\n",
       "      <td>True</td>\n",
       "      <td>https://api.github.com/repos/dxoco/datamex_082020</td>\n",
       "      <td>...</td>\n",
       "      <td>0</td>\n",
       "      <td>None</td>\n",
       "      <td>False</td>\n",
       "      <td>False</td>\n",
       "      <td>0</td>\n",
       "      <td>{'key': 'agpl-3.0', 'name': 'GNU Affero Genera...</td>\n",
       "      <td>0</td>\n",
       "      <td>0</td>\n",
       "      <td>0</td>\n",
       "      <td>master</td>\n",
       "    </tr>\n",
       "    <tr>\n",
       "      <th>2</th>\n",
       "      <td>285416426</td>\n",
       "      <td>MDEwOlJlcG9zaXRvcnkyODU0MTY0MjY=</td>\n",
       "      <td>datamex_082020</td>\n",
       "      <td>mvera84/datamex_082020</td>\n",
       "      <td>False</td>\n",
       "      <td>{'login': 'mvera84', 'id': 67929488, 'node_id'...</td>\n",
       "      <td>https://github.com/mvera84/datamex_082020</td>\n",
       "      <td>None</td>\n",
       "      <td>True</td>\n",
       "      <td>https://api.github.com/repos/mvera84/datamex_0...</td>\n",
       "      <td>...</td>\n",
       "      <td>0</td>\n",
       "      <td>None</td>\n",
       "      <td>False</td>\n",
       "      <td>False</td>\n",
       "      <td>0</td>\n",
       "      <td>{'key': 'agpl-3.0', 'name': 'GNU Affero Genera...</td>\n",
       "      <td>0</td>\n",
       "      <td>0</td>\n",
       "      <td>0</td>\n",
       "      <td>master</td>\n",
       "    </tr>\n",
       "    <tr>\n",
       "      <th>3</th>\n",
       "      <td>285307034</td>\n",
       "      <td>MDEwOlJlcG9zaXRvcnkyODUzMDcwMzQ=</td>\n",
       "      <td>datamex_082020</td>\n",
       "      <td>nayibahued/datamex_082020</td>\n",
       "      <td>False</td>\n",
       "      <td>{'login': 'nayibahued', 'id': 67173808, 'node_...</td>\n",
       "      <td>https://github.com/nayibahued/datamex_082020</td>\n",
       "      <td>None</td>\n",
       "      <td>True</td>\n",
       "      <td>https://api.github.com/repos/nayibahued/datame...</td>\n",
       "      <td>...</td>\n",
       "      <td>0</td>\n",
       "      <td>None</td>\n",
       "      <td>False</td>\n",
       "      <td>False</td>\n",
       "      <td>0</td>\n",
       "      <td>{'key': 'agpl-3.0', 'name': 'GNU Affero Genera...</td>\n",
       "      <td>0</td>\n",
       "      <td>0</td>\n",
       "      <td>0</td>\n",
       "      <td>master</td>\n",
       "    </tr>\n",
       "    <tr>\n",
       "      <th>4</th>\n",
       "      <td>285107862</td>\n",
       "      <td>MDEwOlJlcG9zaXRvcnkyODUxMDc4NjI=</td>\n",
       "      <td>datamex_082020</td>\n",
       "      <td>Joe666999/datamex_082020</td>\n",
       "      <td>False</td>\n",
       "      <td>{'login': 'Joe666999', 'id': 67888796, 'node_i...</td>\n",
       "      <td>https://github.com/Joe666999/datamex_082020</td>\n",
       "      <td>None</td>\n",
       "      <td>True</td>\n",
       "      <td>https://api.github.com/repos/Joe666999/datamex...</td>\n",
       "      <td>...</td>\n",
       "      <td>0</td>\n",
       "      <td>None</td>\n",
       "      <td>False</td>\n",
       "      <td>False</td>\n",
       "      <td>0</td>\n",
       "      <td>{'key': 'agpl-3.0', 'name': 'GNU Affero Genera...</td>\n",
       "      <td>0</td>\n",
       "      <td>0</td>\n",
       "      <td>0</td>\n",
       "      <td>master</td>\n",
       "    </tr>\n",
       "  </tbody>\n",
       "</table>\n",
       "<p>5 rows × 73 columns</p>\n",
       "</div>"
      ],
      "text/plain": [
       "          id                           node_id            name  \\\n",
       "0  290047053  MDEwOlJlcG9zaXRvcnkyOTAwNDcwNTM=  datamex_082020   \n",
       "1  285669634  MDEwOlJlcG9zaXRvcnkyODU2Njk2MzQ=  datamex_082020   \n",
       "2  285416426  MDEwOlJlcG9zaXRvcnkyODU0MTY0MjY=  datamex_082020   \n",
       "3  285307034  MDEwOlJlcG9zaXRvcnkyODUzMDcwMzQ=  datamex_082020   \n",
       "4  285107862  MDEwOlJlcG9zaXRvcnkyODUxMDc4NjI=  datamex_082020   \n",
       "\n",
       "                   full_name  private  \\\n",
       "0    Menazina/datamex_082020    False   \n",
       "1       dxoco/datamex_082020    False   \n",
       "2     mvera84/datamex_082020    False   \n",
       "3  nayibahued/datamex_082020    False   \n",
       "4   Joe666999/datamex_082020    False   \n",
       "\n",
       "                                               owner  \\\n",
       "0  {'login': 'Menazina', 'id': 68874255, 'node_id...   \n",
       "1  {'login': 'dxoco', 'id': 67029492, 'node_id': ...   \n",
       "2  {'login': 'mvera84', 'id': 67929488, 'node_id'...   \n",
       "3  {'login': 'nayibahued', 'id': 67173808, 'node_...   \n",
       "4  {'login': 'Joe666999', 'id': 67888796, 'node_i...   \n",
       "\n",
       "                                       html_url description  fork  \\\n",
       "0    https://github.com/Menazina/datamex_082020        None  True   \n",
       "1       https://github.com/dxoco/datamex_082020        None  True   \n",
       "2     https://github.com/mvera84/datamex_082020        None  True   \n",
       "3  https://github.com/nayibahued/datamex_082020        None  True   \n",
       "4   https://github.com/Joe666999/datamex_082020        None  True   \n",
       "\n",
       "                                                 url  ... forks_count  \\\n",
       "0  https://api.github.com/repos/Menazina/datamex_...  ...           0   \n",
       "1  https://api.github.com/repos/dxoco/datamex_082020  ...           0   \n",
       "2  https://api.github.com/repos/mvera84/datamex_0...  ...           0   \n",
       "3  https://api.github.com/repos/nayibahued/datame...  ...           0   \n",
       "4  https://api.github.com/repos/Joe666999/datamex...  ...           0   \n",
       "\n",
       "  mirror_url archived disabled open_issues_count  \\\n",
       "0       None    False    False                 0   \n",
       "1       None    False    False                 0   \n",
       "2       None    False    False                 0   \n",
       "3       None    False    False                 0   \n",
       "4       None    False    False                 0   \n",
       "\n",
       "                                             license forks open_issues  \\\n",
       "0  {'key': 'agpl-3.0', 'name': 'GNU Affero Genera...     0           0   \n",
       "1  {'key': 'agpl-3.0', 'name': 'GNU Affero Genera...     0           0   \n",
       "2  {'key': 'agpl-3.0', 'name': 'GNU Affero Genera...     0           0   \n",
       "3  {'key': 'agpl-3.0', 'name': 'GNU Affero Genera...     0           0   \n",
       "4  {'key': 'agpl-3.0', 'name': 'GNU Affero Genera...     0           0   \n",
       "\n",
       "  watchers default_branch  \n",
       "0        0         master  \n",
       "1        0         master  \n",
       "2        0         master  \n",
       "3        0         master  \n",
       "4        0         master  \n",
       "\n",
       "[5 rows x 73 columns]"
      ]
     },
     "execution_count": 9,
     "metadata": {},
     "output_type": "execute_result"
    }
   ],
   "source": [
    "data.head()"
   ]
  },
  {
   "cell_type": "markdown",
   "metadata": {},
   "source": [
    "Fork languages"
   ]
  },
  {
   "cell_type": "code",
   "execution_count": 12,
   "metadata": {},
   "outputs": [],
   "source": [
    "languages = []\n",
    "for i in res:\n",
    "    languages.append(i['language'])"
   ]
  },
  {
   "cell_type": "code",
   "execution_count": 13,
   "metadata": {},
   "outputs": [
    {
     "name": "stdout",
     "output_type": "stream",
     "text": [
      " The languages are ['Jupyter Notebook', None]\n"
     ]
    }
   ],
   "source": [
    "languages=list(set(languages))\n",
    "print(f' The languages are {languages}')"
   ]
  },
  {
   "cell_type": "markdown",
   "metadata": {},
   "source": [
    "# Challenge 2"
   ]
  },
  {
   "cell_type": "code",
   "execution_count": 14,
   "metadata": {},
   "outputs": [],
   "source": [
    "req_2 = req.get('https://api.github.com/repos/Os-f-dev/datamex_082020/commits')\n",
    "res_2 = req_2.json()"
   ]
  },
  {
   "cell_type": "code",
   "execution_count": 15,
   "metadata": {},
   "outputs": [
    {
     "data": {
      "text/plain": [
       "[{'sha': '686d3fa371ac30076eacbc7b8417e80cf4479e33',\n",
       "  'node_id': 'MDY6Q29tbWl0Mjg0NzEyNDc2OjY4NmQzZmEzNzFhYzMwMDc2ZWFjYmM3Yjg0MTdlODBjZjQ0NzllMzM=',\n",
       "  'commit': {'author': {'name': 'Oscar. f.h',\n",
       "    'email': 'Os-f-dev',\n",
       "    'date': '2020-08-03T19:38:53Z'},\n",
       "   'committer': {'name': 'Oscar. f.h',\n",
       "    'email': 'Os-f-dev',\n",
       "    'date': '2020-08-03T19:38:53Z'},\n",
       "   'message': 'datamex_082020',\n",
       "   'tree': {'sha': 'a8488454be967f3f740c0a6779d9d2fe7a40f2f1',\n",
       "    'url': 'https://api.github.com/repos/Os-f-dev/datamex_082020/git/trees/a8488454be967f3f740c0a6779d9d2fe7a40f2f1'},\n",
       "   'url': 'https://api.github.com/repos/Os-f-dev/datamex_082020/git/commits/686d3fa371ac30076eacbc7b8417e80cf4479e33',\n",
       "   'comment_count': 0,\n",
       "   'verification': {'verified': False,\n",
       "    'reason': 'unsigned',\n",
       "    'signature': None,\n",
       "    'payload': None}},\n",
       "  'url': 'https://api.github.com/repos/Os-f-dev/datamex_082020/commits/686d3fa371ac30076eacbc7b8417e80cf4479e33',\n",
       "  'html_url': 'https://github.com/Os-f-dev/datamex_082020/commit/686d3fa371ac30076eacbc7b8417e80cf4479e33',\n",
       "  'comments_url': 'https://api.github.com/repos/Os-f-dev/datamex_082020/commits/686d3fa371ac30076eacbc7b8417e80cf4479e33/comments',\n",
       "  'author': None,\n",
       "  'committer': None,\n",
       "  'parents': []}]"
      ]
     },
     "execution_count": 15,
     "metadata": {},
     "output_type": "execute_result"
    }
   ],
   "source": [
    "res_2"
   ]
  },
  {
   "cell_type": "code",
   "execution_count": 16,
   "metadata": {},
   "outputs": [
    {
     "name": "stdout",
     "output_type": "stream",
     "text": [
      "There is 1 commit\n"
     ]
    }
   ],
   "source": [
    "print(f'There is {len(res_2)} commit')"
   ]
  },
  {
   "cell_type": "markdown",
   "metadata": {},
   "source": [
    "# Challenge 3"
   ]
  },
  {
   "cell_type": "code",
   "execution_count": 17,
   "metadata": {},
   "outputs": [],
   "source": [
    "req_3 = req.get('https://api.github.com/repos/ironhack-datalabs/scavenger/reviews')\n",
    "res_3 = req_3.json()"
   ]
  },
  {
   "cell_type": "code",
   "execution_count": 18,
   "metadata": {},
   "outputs": [
    {
     "data": {
      "text/plain": [
       "{'message': 'Not Found', 'documentation_url': 'https://docs.github.com/rest'}"
      ]
     },
     "execution_count": 18,
     "metadata": {},
     "output_type": "execute_result"
    }
   ],
   "source": [
    "res_3"
   ]
  },
  {
   "cell_type": "code",
   "execution_count": 19,
   "metadata": {},
   "outputs": [],
   "source": [
    "req_5 = req.get('https://api.github.com/repos/ironhack-datalabs/scavenger/contents')\n",
    "res_5 = req_5.json()"
   ]
  },
  {
   "cell_type": "code",
   "execution_count": 21,
   "metadata": {},
   "outputs": [
    {
     "data": {
      "text/plain": [
       "['https://api.github.com/repos/ironhack-datalabs/scavenger/contents/15024?ref=master',\n",
       " 'https://api.github.com/repos/ironhack-datalabs/scavenger/contents/15534?ref=master',\n",
       " 'https://api.github.com/repos/ironhack-datalabs/scavenger/contents/17020?ref=master',\n",
       " 'https://api.github.com/repos/ironhack-datalabs/scavenger/contents/30351?ref=master',\n",
       " 'https://api.github.com/repos/ironhack-datalabs/scavenger/contents/40303?ref=master',\n",
       " 'https://api.github.com/repos/ironhack-datalabs/scavenger/contents/44639?ref=master',\n",
       " 'https://api.github.com/repos/ironhack-datalabs/scavenger/contents/45525?ref=master',\n",
       " 'https://api.github.com/repos/ironhack-datalabs/scavenger/contents/47222?ref=master',\n",
       " 'https://api.github.com/repos/ironhack-datalabs/scavenger/contents/47830?ref=master',\n",
       " 'https://api.github.com/repos/ironhack-datalabs/scavenger/contents/49418?ref=master',\n",
       " 'https://api.github.com/repos/ironhack-datalabs/scavenger/contents/50896?ref=master',\n",
       " 'https://api.github.com/repos/ironhack-datalabs/scavenger/contents/55417?ref=master',\n",
       " 'https://api.github.com/repos/ironhack-datalabs/scavenger/contents/55685?ref=master',\n",
       " 'https://api.github.com/repos/ironhack-datalabs/scavenger/contents/60224?ref=master',\n",
       " 'https://api.github.com/repos/ironhack-datalabs/scavenger/contents/64880?ref=master',\n",
       " 'https://api.github.com/repos/ironhack-datalabs/scavenger/contents/66032?ref=master',\n",
       " 'https://api.github.com/repos/ironhack-datalabs/scavenger/contents/68848?ref=master',\n",
       " 'https://api.github.com/repos/ironhack-datalabs/scavenger/contents/70751?ref=master',\n",
       " 'https://api.github.com/repos/ironhack-datalabs/scavenger/contents/70985?ref=master',\n",
       " 'https://api.github.com/repos/ironhack-datalabs/scavenger/contents/88596?ref=master',\n",
       " 'https://api.github.com/repos/ironhack-datalabs/scavenger/contents/89046?ref=master',\n",
       " 'https://api.github.com/repos/ironhack-datalabs/scavenger/contents/89338?ref=master',\n",
       " 'https://api.github.com/repos/ironhack-datalabs/scavenger/contents/91701?ref=master',\n",
       " 'https://api.github.com/repos/ironhack-datalabs/scavenger/contents/97881?ref=master',\n",
       " 'https://api.github.com/repos/ironhack-datalabs/scavenger/contents/98750?ref=master']"
      ]
     },
     "execution_count": 21,
     "metadata": {},
     "output_type": "execute_result"
    }
   ],
   "source": [
    "route = []\n",
    "for i in range(1,len(res_5)):\n",
    "    route.append(res_5[i]['url'])\n",
    "route"
   ]
  },
  {
   "cell_type": "code",
   "execution_count": 22,
   "metadata": {},
   "outputs": [
    {
     "data": {
      "text/plain": [
       "[['.0006.scavengerhunt',\n",
       "  'https://raw.githubusercontent.com/ironhack-datalabs/scavenger/master/15024/.0006.scavengerhunt'],\n",
       " ['.0008.scavengerhunt',\n",
       "  'https://raw.githubusercontent.com/ironhack-datalabs/scavenger/master/15534/.0008.scavengerhunt'],\n",
       " ['.0012.scavengerhunt',\n",
       "  'https://raw.githubusercontent.com/ironhack-datalabs/scavenger/master/15534/.0012.scavengerhunt'],\n",
       " ['.0007.scavengerhunt',\n",
       "  'https://raw.githubusercontent.com/ironhack-datalabs/scavenger/master/17020/.0007.scavengerhunt'],\n",
       " ['.0021.scavengerhunt',\n",
       "  'https://raw.githubusercontent.com/ironhack-datalabs/scavenger/master/30351/.0021.scavengerhunt'],\n",
       " ['.0022.scavengerhunt',\n",
       "  'https://raw.githubusercontent.com/ironhack-datalabs/scavenger/master/40303/.0022.scavengerhunt'],\n",
       " ['.0005.scavengerhunt',\n",
       "  'https://raw.githubusercontent.com/ironhack-datalabs/scavenger/master/44639/.0005.scavengerhunt'],\n",
       " ['.0018.scavengerhunt',\n",
       "  'https://raw.githubusercontent.com/ironhack-datalabs/scavenger/master/45525/.0018.scavengerhunt'],\n",
       " ['.0016.scavengerhunt',\n",
       "  'https://raw.githubusercontent.com/ironhack-datalabs/scavenger/master/47222/.0016.scavengerhunt'],\n",
       " ['.0024.scavengerhunt',\n",
       "  'https://raw.githubusercontent.com/ironhack-datalabs/scavenger/master/47222/.0024.scavengerhunt'],\n",
       " ['.0010.scavengerhunt',\n",
       "  'https://raw.githubusercontent.com/ironhack-datalabs/scavenger/master/47830/.0010.scavengerhunt'],\n",
       " ['.0014.scavengerhunt',\n",
       "  'https://raw.githubusercontent.com/ironhack-datalabs/scavenger/master/49418/.0014.scavengerhunt'],\n",
       " ['.0011.scavengerhunt',\n",
       "  'https://raw.githubusercontent.com/ironhack-datalabs/scavenger/master/50896/.0011.scavengerhunt'],\n",
       " ['.0023.scavengerhunt',\n",
       "  'https://raw.githubusercontent.com/ironhack-datalabs/scavenger/master/55417/.0023.scavengerhunt'],\n",
       " ['.0020.scavengerhunt',\n",
       "  'https://raw.githubusercontent.com/ironhack-datalabs/scavenger/master/55685/.0020.scavengerhunt'],\n",
       " ['.0003.scavengerhunt',\n",
       "  'https://raw.githubusercontent.com/ironhack-datalabs/scavenger/master/60224/.0003.scavengerhunt'],\n",
       " ['.0004.scavengerhunt',\n",
       "  'https://raw.githubusercontent.com/ironhack-datalabs/scavenger/master/68848/.0004.scavengerhunt'],\n",
       " ['.0019.scavengerhunt',\n",
       "  'https://raw.githubusercontent.com/ironhack-datalabs/scavenger/master/70751/.0019.scavengerhunt'],\n",
       " ['.0017.scavengerhunt',\n",
       "  'https://raw.githubusercontent.com/ironhack-datalabs/scavenger/master/70985/.0017.scavengerhunt'],\n",
       " ['.0002.scavengerhunt',\n",
       "  'https://raw.githubusercontent.com/ironhack-datalabs/scavenger/master/88596/.0002.scavengerhunt'],\n",
       " ['.0013.scavengerhunt',\n",
       "  'https://raw.githubusercontent.com/ironhack-datalabs/scavenger/master/89338/.0013.scavengerhunt'],\n",
       " ['.0015.scavengerhunt',\n",
       "  'https://raw.githubusercontent.com/ironhack-datalabs/scavenger/master/91701/.0015.scavengerhunt'],\n",
       " ['.0009.scavengerhunt',\n",
       "  'https://raw.githubusercontent.com/ironhack-datalabs/scavenger/master/97881/.0009.scavengerhunt'],\n",
       " ['.0001.scavengerhunt',\n",
       "  'https://raw.githubusercontent.com/ironhack-datalabs/scavenger/master/98750/.0001.scavengerhunt']]"
      ]
     },
     "execution_count": 22,
     "metadata": {},
     "output_type": "execute_result"
    }
   ],
   "source": [
    "carp = []\n",
    "for carpets in route:\n",
    "    rescarp = req.get(carpets)\n",
    "    resultscarp = rescarp.json()\n",
    "    for j in resultscarp:\n",
    "        if 'scavengerhunt' in j['name']:\n",
    "            carp.append([j['name'],j['download_url']])\n",
    "\n",
    "carp"
   ]
  },
  {
   "cell_type": "code",
   "execution_count": 24,
   "metadata": {},
   "outputs": [
    {
     "data": {
      "text/plain": [
       "[['.0001.scavengerhunt',\n",
       "  'https://raw.githubusercontent.com/ironhack-datalabs/scavenger/master/98750/.0001.scavengerhunt'],\n",
       " ['.0002.scavengerhunt',\n",
       "  'https://raw.githubusercontent.com/ironhack-datalabs/scavenger/master/88596/.0002.scavengerhunt'],\n",
       " ['.0003.scavengerhunt',\n",
       "  'https://raw.githubusercontent.com/ironhack-datalabs/scavenger/master/60224/.0003.scavengerhunt'],\n",
       " ['.0004.scavengerhunt',\n",
       "  'https://raw.githubusercontent.com/ironhack-datalabs/scavenger/master/68848/.0004.scavengerhunt'],\n",
       " ['.0005.scavengerhunt',\n",
       "  'https://raw.githubusercontent.com/ironhack-datalabs/scavenger/master/44639/.0005.scavengerhunt'],\n",
       " ['.0006.scavengerhunt',\n",
       "  'https://raw.githubusercontent.com/ironhack-datalabs/scavenger/master/15024/.0006.scavengerhunt'],\n",
       " ['.0007.scavengerhunt',\n",
       "  'https://raw.githubusercontent.com/ironhack-datalabs/scavenger/master/17020/.0007.scavengerhunt'],\n",
       " ['.0008.scavengerhunt',\n",
       "  'https://raw.githubusercontent.com/ironhack-datalabs/scavenger/master/15534/.0008.scavengerhunt'],\n",
       " ['.0009.scavengerhunt',\n",
       "  'https://raw.githubusercontent.com/ironhack-datalabs/scavenger/master/97881/.0009.scavengerhunt'],\n",
       " ['.0010.scavengerhunt',\n",
       "  'https://raw.githubusercontent.com/ironhack-datalabs/scavenger/master/47830/.0010.scavengerhunt'],\n",
       " ['.0011.scavengerhunt',\n",
       "  'https://raw.githubusercontent.com/ironhack-datalabs/scavenger/master/50896/.0011.scavengerhunt'],\n",
       " ['.0012.scavengerhunt',\n",
       "  'https://raw.githubusercontent.com/ironhack-datalabs/scavenger/master/15534/.0012.scavengerhunt'],\n",
       " ['.0013.scavengerhunt',\n",
       "  'https://raw.githubusercontent.com/ironhack-datalabs/scavenger/master/89338/.0013.scavengerhunt'],\n",
       " ['.0014.scavengerhunt',\n",
       "  'https://raw.githubusercontent.com/ironhack-datalabs/scavenger/master/49418/.0014.scavengerhunt'],\n",
       " ['.0015.scavengerhunt',\n",
       "  'https://raw.githubusercontent.com/ironhack-datalabs/scavenger/master/91701/.0015.scavengerhunt'],\n",
       " ['.0016.scavengerhunt',\n",
       "  'https://raw.githubusercontent.com/ironhack-datalabs/scavenger/master/47222/.0016.scavengerhunt'],\n",
       " ['.0017.scavengerhunt',\n",
       "  'https://raw.githubusercontent.com/ironhack-datalabs/scavenger/master/70985/.0017.scavengerhunt'],\n",
       " ['.0018.scavengerhunt',\n",
       "  'https://raw.githubusercontent.com/ironhack-datalabs/scavenger/master/45525/.0018.scavengerhunt'],\n",
       " ['.0019.scavengerhunt',\n",
       "  'https://raw.githubusercontent.com/ironhack-datalabs/scavenger/master/70751/.0019.scavengerhunt'],\n",
       " ['.0020.scavengerhunt',\n",
       "  'https://raw.githubusercontent.com/ironhack-datalabs/scavenger/master/55685/.0020.scavengerhunt'],\n",
       " ['.0021.scavengerhunt',\n",
       "  'https://raw.githubusercontent.com/ironhack-datalabs/scavenger/master/30351/.0021.scavengerhunt'],\n",
       " ['.0022.scavengerhunt',\n",
       "  'https://raw.githubusercontent.com/ironhack-datalabs/scavenger/master/40303/.0022.scavengerhunt'],\n",
       " ['.0023.scavengerhunt',\n",
       "  'https://raw.githubusercontent.com/ironhack-datalabs/scavenger/master/55417/.0023.scavengerhunt'],\n",
       " ['.0024.scavengerhunt',\n",
       "  'https://raw.githubusercontent.com/ironhack-datalabs/scavenger/master/47222/.0024.scavengerhunt']]"
      ]
     },
     "execution_count": 24,
     "metadata": {},
     "output_type": "execute_result"
    }
   ],
   "source": [
    "carpet_2 = sorted(carp)\n",
    "carpet_2"
   ]
  },
  {
   "cell_type": "code",
   "execution_count": 26,
   "metadata": {},
   "outputs": [],
   "source": [
    "x = \"\"\n",
    "for m in carpet_2:\n",
    "    resfi = req.get(m[1])\n",
    "    x = x + (resfi.text.replace('\\n',' '))"
   ]
  },
  {
   "cell_type": "code",
   "execution_count": 27,
   "metadata": {},
   "outputs": [
    {
     "name": "stdout",
     "output_type": "stream",
     "text": [
      "The message is: In data science, 80 percent of time spent is preparing data, 20 percent of time is spent complaining about the need to prepare data. \n"
     ]
    }
   ],
   "source": [
    "print(f'The message is: {x}')"
   ]
  }
 ],
 "metadata": {
  "kernelspec": {
   "display_name": "Python 3",
   "language": "python",
   "name": "python3"
  },
  "language_info": {
   "codemirror_mode": {
    "name": "ipython",
    "version": 3
   },
   "file_extension": ".py",
   "mimetype": "text/x-python",
   "name": "python",
   "nbconvert_exporter": "python",
   "pygments_lexer": "ipython3",
   "version": "3.7.6"
  }
 },
 "nbformat": 4,
 "nbformat_minor": 4
}
