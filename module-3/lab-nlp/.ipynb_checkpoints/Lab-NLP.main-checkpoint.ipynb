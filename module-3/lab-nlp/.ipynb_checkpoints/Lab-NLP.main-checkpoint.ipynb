{
 "cells": [
  {
   "cell_type": "markdown",
   "metadata": {},
   "source": [
    "# Challenge 1"
   ]
  },
  {
   "cell_type": "code",
   "execution_count": 5,
   "metadata": {},
   "outputs": [],
   "source": [
    "import nltk"
   ]
  },
  {
   "cell_type": "code",
   "execution_count": 6,
   "metadata": {},
   "outputs": [
    {
     "name": "stdout",
     "output_type": "stream",
     "text": [
      "showing info https://raw.githubusercontent.com/nltk/nltk_data/gh-pages/index.xml\n"
     ]
    },
    {
     "data": {
      "text/plain": [
       "True"
      ]
     },
     "execution_count": 6,
     "metadata": {},
     "output_type": "execute_result"
    }
   ],
   "source": [
    " nltk.download()"
   ]
  },
  {
   "cell_type": "code",
   "execution_count": 4,
   "metadata": {},
   "outputs": [],
   "source": [
    "from nltk.corpus import brown"
   ]
  },
  {
   "cell_type": "code",
   "execution_count": 7,
   "metadata": {},
   "outputs": [
    {
     "data": {
      "text/plain": [
       "['The',\n",
       " 'Fulton',\n",
       " 'County',\n",
       " 'Grand',\n",
       " 'Jury',\n",
       " 'said',\n",
       " 'Friday',\n",
       " 'an',\n",
       " 'investigation',\n",
       " 'of']"
      ]
     },
     "execution_count": 7,
     "metadata": {},
     "output_type": "execute_result"
    }
   ],
   "source": [
    "brown.words()[0:10]"
   ]
  },
  {
   "cell_type": "code",
   "execution_count": 8,
   "metadata": {},
   "outputs": [
    {
     "data": {
      "text/plain": [
       "[('The', 'AT'),\n",
       " ('Fulton', 'NP-TL'),\n",
       " ('County', 'NN-TL'),\n",
       " ('Grand', 'JJ-TL'),\n",
       " ('Jury', 'NN-TL'),\n",
       " ('said', 'VBD'),\n",
       " ('Friday', 'NR'),\n",
       " ('an', 'AT'),\n",
       " ('investigation', 'NN'),\n",
       " ('of', 'IN')]"
      ]
     },
     "execution_count": 8,
     "metadata": {},
     "output_type": "execute_result"
    }
   ],
   "source": [
    "brown.tagged_words()[0:10]"
   ]
  },
  {
   "cell_type": "code",
   "execution_count": 10,
   "metadata": {},
   "outputs": [
    {
     "name": "stderr",
     "output_type": "stream",
     "text": [
      "/Users/Menazina/opt/anaconda3/lib/python3.7/site-packages/IPython/core/inputtransformer2.py:481: UserWarning: `make_tokens_by_line` received a list of lines which do not have lineending markers ('\\n', '\\r', '\\r\\n', '\\x0b', '\\x0c'), behavior will be unspecified\n",
      "  warnings.warn(\"`make_tokens_by_line` received a list of lines which do not have lineending markers ('\\\\n', '\\\\r', '\\\\r\\\\n', '\\\\x0b', '\\\\x0c'), behavior will be unspecified\")\n"
     ]
    }
   ],
   "source": [
    "text = 'Ironhack is a Global Tech School ranked num 2 worldwide.  ",
    " ",
    "Our mission is to help people transform their careers and join a thriving community of tech professionals that love what they do. This ideology is reflected in our teaching practices, which consist of a nine-weeks immersive programming, UX/UI design or Data Analytics course as well as a one-week hiring fair aimed at helping our students change their career and get a job straight after the course. We are present in 8 countries and have campuses in 9 locations - Madrid, Barcelona, Miami, Paris, Mexico City,  Berlin, Amsterdam, Sao Paulo and Lisbon.'"
   ]
  },
  {
   "cell_type": "code",
   "execution_count": 11,
   "metadata": {},
   "outputs": [],
   "source": [
    "from nltk import sent_tokenize, word_tokenize"
   ]
  },
  {
   "cell_type": "code",
   "execution_count": 13,
   "metadata": {},
   "outputs": [
    {
     "data": {
      "text/plain": [
       "['Ironhack is a Global Tech School ranked num 2 worldwide.',\n",
       " 'Our mission is to help people transform their careers and join a thriving community of tech professionals that love what they do.',\n",
       " 'This ideology is reflected in our teaching practices, which consist of a nine-weeks immersive programming, UX/UI design or Data Analytics course as well as a one-week hiring fair aimed at helping our students change their career and get a job straight after the course.',\n",
       " 'We are present in 8 countries and have campuses in 9 locations - Madrid, Barcelona, Miami, Paris, Mexico City,  Berlin, Amsterdam, Sao Paulo and Lisbon.']"
      ]
     },
     "execution_count": 13,
     "metadata": {},
     "output_type": "execute_result"
    }
   ],
   "source": [
    "sent_tokenize(text)"
   ]
  },
  {
   "cell_type": "code",
   "execution_count": 14,
   "metadata": {},
   "outputs": [
    {
     "data": {
      "text/plain": [
       "['Ironhack',\n",
       " 'is',\n",
       " 'a',\n",
       " 'Global',\n",
       " 'Tech',\n",
       " 'School',\n",
       " 'ranked',\n",
       " 'num',\n",
       " '2',\n",
       " 'worldwide',\n",
       " '.',\n",
       " 'Our',\n",
       " 'mission',\n",
       " 'is',\n",
       " 'to',\n",
       " 'help',\n",
       " 'people',\n",
       " 'transform',\n",
       " 'their',\n",
       " 'careers',\n",
       " 'and',\n",
       " 'join',\n",
       " 'a',\n",
       " 'thriving',\n",
       " 'community',\n",
       " 'of',\n",
       " 'tech',\n",
       " 'professionals',\n",
       " 'that',\n",
       " 'love',\n",
       " 'what',\n",
       " 'they',\n",
       " 'do',\n",
       " '.',\n",
       " 'This',\n",
       " 'ideology',\n",
       " 'is',\n",
       " 'reflected',\n",
       " 'in',\n",
       " 'our',\n",
       " 'teaching',\n",
       " 'practices',\n",
       " ',',\n",
       " 'which',\n",
       " 'consist',\n",
       " 'of',\n",
       " 'a',\n",
       " 'nine-weeks',\n",
       " 'immersive',\n",
       " 'programming',\n",
       " ',',\n",
       " 'UX/UI',\n",
       " 'design',\n",
       " 'or',\n",
       " 'Data',\n",
       " 'Analytics',\n",
       " 'course',\n",
       " 'as',\n",
       " 'well',\n",
       " 'as',\n",
       " 'a',\n",
       " 'one-week',\n",
       " 'hiring',\n",
       " 'fair',\n",
       " 'aimed',\n",
       " 'at',\n",
       " 'helping',\n",
       " 'our',\n",
       " 'students',\n",
       " 'change',\n",
       " 'their',\n",
       " 'career',\n",
       " 'and',\n",
       " 'get',\n",
       " 'a',\n",
       " 'job',\n",
       " 'straight',\n",
       " 'after',\n",
       " 'the',\n",
       " 'course',\n",
       " '.',\n",
       " 'We',\n",
       " 'are',\n",
       " 'present',\n",
       " 'in',\n",
       " '8',\n",
       " 'countries',\n",
       " 'and',\n",
       " 'have',\n",
       " 'campuses',\n",
       " 'in',\n",
       " '9',\n",
       " 'locations',\n",
       " '-',\n",
       " 'Madrid',\n",
       " ',',\n",
       " 'Barcelona',\n",
       " ',',\n",
       " 'Miami',\n",
       " ',',\n",
       " 'Paris',\n",
       " ',',\n",
       " 'Mexico',\n",
       " 'City',\n",
       " ',',\n",
       " 'Berlin',\n",
       " ',',\n",
       " 'Amsterdam',\n",
       " ',',\n",
       " 'Sao',\n",
       " 'Paulo',\n",
       " 'and',\n",
       " 'Lisbon',\n",
       " '.']"
      ]
     },
     "execution_count": 14,
     "metadata": {},
     "output_type": "execute_result"
    }
   ],
   "source": [
    "word_tokenize(text)"
   ]
  },
  {
   "cell_type": "markdown",
   "metadata": {},
   "source": [
    "# Challenge 2"
   ]
  },
  {
   "cell_type": "code",
   "execution_count": 45,
   "metadata": {},
   "outputs": [],
   "source": [
    "from nltk.corpus import stopwords\n",
    "import re\n",
    "from nltk import word_tokenize\n",
    "from nltk.stem import WordNetLemmatizer\n",
    "from nltk.stem import PorterStemmer\n",
    "from nltk.corpus import stopwords\n"
   ]
  },
  {
   "cell_type": "code",
   "execution_count": 30,
   "metadata": {},
   "outputs": [],
   "source": [
    "def clean_up(s):\n",
    "    clean = [\"http://?.+\", \"\\W+|\\d+\"]\n",
    "    s = s.lower()\n",
    "    for i in clean:\n",
    "        s = re.sub(i, \" \",s)\n",
    "    s = s.split()\n",
    "    s = \" \".join(s)\n",
    "    return s\n",
    "    \n",
    "    "
   ]
  },
  {
   "cell_type": "code",
   "execution_count": 31,
   "metadata": {},
   "outputs": [],
   "source": [
    "def tokewords (s):\n",
    "    s = word_tokenize(s)\n",
    "    return s"
   ]
  },
  {
   "cell_type": "code",
   "execution_count": 32,
   "metadata": {},
   "outputs": [
    {
     "data": {
      "text/plain": [
       "'ironhack s q website is'"
      ]
     },
     "execution_count": 32,
     "metadata": {},
     "output_type": "execute_result"
    }
   ],
   "source": [
    "clean_up(\"@Ironhack's-#Q website 776-is http://ironhack.com [(2018)]\")"
   ]
  },
  {
   "cell_type": "code",
   "execution_count": 34,
   "metadata": {},
   "outputs": [],
   "source": [
    "lemmatizer = WordNetLemmatizer()"
   ]
  },
  {
   "cell_type": "code",
   "execution_count": 35,
   "metadata": {},
   "outputs": [
    {
     "data": {
      "text/plain": [
       "'wa'"
      ]
     },
     "execution_count": 35,
     "metadata": {},
     "output_type": "execute_result"
    }
   ],
   "source": [
    "lemmatizer.lemmatize('was')"
   ]
  },
  {
   "cell_type": "code",
   "execution_count": 36,
   "metadata": {},
   "outputs": [
    {
     "data": {
      "text/plain": [
       "'run'"
      ]
     },
     "execution_count": 36,
     "metadata": {},
     "output_type": "execute_result"
    }
   ],
   "source": [
    "lemmatizer.lemmatize('runs', pos='v')"
   ]
  },
  {
   "cell_type": "code",
   "execution_count": 48,
   "metadata": {},
   "outputs": [
    {
     "data": {
      "text/plain": [
       "['ironhack',\n",
       " 'is',\n",
       " 'a',\n",
       " 'global',\n",
       " 'tech',\n",
       " 'school',\n",
       " 'ranked',\n",
       " 'num',\n",
       " 'worldwide',\n",
       " 'our',\n",
       " 'mission',\n",
       " 'is',\n",
       " 'to',\n",
       " 'help',\n",
       " 'people',\n",
       " 'transform',\n",
       " 'their',\n",
       " 'careers',\n",
       " 'and',\n",
       " 'join',\n",
       " 'a',\n",
       " 'thriving',\n",
       " 'community',\n",
       " 'of',\n",
       " 'tech',\n",
       " 'professionals',\n",
       " 'that',\n",
       " 'love',\n",
       " 'what',\n",
       " 'they',\n",
       " 'do',\n",
       " 'this',\n",
       " 'ideology',\n",
       " 'is',\n",
       " 'reflected',\n",
       " 'in',\n",
       " 'our',\n",
       " 'teaching',\n",
       " 'practices',\n",
       " 'which',\n",
       " 'consist',\n",
       " 'of',\n",
       " 'a',\n",
       " 'nine',\n",
       " 'weeks',\n",
       " 'immersive',\n",
       " 'programming',\n",
       " 'ux',\n",
       " 'ui',\n",
       " 'design',\n",
       " 'or',\n",
       " 'data',\n",
       " 'analytics',\n",
       " 'course',\n",
       " 'as',\n",
       " 'well',\n",
       " 'as',\n",
       " 'a',\n",
       " 'one',\n",
       " 'week',\n",
       " 'hiring',\n",
       " 'fair',\n",
       " 'aimed',\n",
       " 'at',\n",
       " 'helping',\n",
       " 'our',\n",
       " 'students',\n",
       " 'change',\n",
       " 'their',\n",
       " 'career',\n",
       " 'and',\n",
       " 'get',\n",
       " 'a',\n",
       " 'job',\n",
       " 'straight',\n",
       " 'after',\n",
       " 'the',\n",
       " 'course',\n",
       " 'we',\n",
       " 'are',\n",
       " 'present',\n",
       " 'in',\n",
       " 'countries',\n",
       " 'and',\n",
       " 'have',\n",
       " 'campuses',\n",
       " 'in',\n",
       " 'locations',\n",
       " 'madrid',\n",
       " 'barcelona',\n",
       " 'miami',\n",
       " 'paris',\n",
       " 'mexico',\n",
       " 'city',\n",
       " 'berlin',\n",
       " 'amsterdam',\n",
       " 'sao',\n",
       " 'paulo',\n",
       " 'and',\n",
       " 'lisbon']"
      ]
     },
     "execution_count": 48,
     "metadata": {},
     "output_type": "execute_result"
    }
   ],
   "source": [
    "test = '''Data science is an interdisciplinary field that uses scientific methods, processes, algorithms and systems to extract knowledge and insights from data in various forms, both structured and unstructured,[1][2] similar to data mining. \\nData science is a \"concept to unify statistics, data analysis, machine learning and their related methods\" in order to \"understand and analyze actual phenomena\" with data.[3] It employs techniques and theories drawn from many fields within the context of mathematics, statistics, information science, and computer science. \\nTuring award winner Jim Gray imagined data science as a \"fourth paradigm\" of science (empirical, theoretical, computational and now data-driven) and asserted that \"everything about science is changing because of the impact of information technology\" and the data deluge.\\nIn 2012, when Harvard Business Review called it \"The Sexiest Job of the 21st Century\",[6] the term \"data science\" became a buzzword. It is now often used interchangeably with earlier concepts'''\n",
    "s = tokewords(clean_up(text))\n",
    "s"
   ]
  },
  {
   "cell_type": "code",
   "execution_count": 51,
   "metadata": {},
   "outputs": [],
   "source": [
    "def stem_and_lemmatize(l):\n",
    "    lemm = []\n",
    "    porter = PorterStemmer()\n",
    "    lem =  WordNetLemmatizer()\n",
    "    stem = list(map(porter.stem,s))\n",
    "    for i in s:\n",
    "        lemm.append(lem.lemmatize(i, pos = 'v'))\n",
    "    return lemm"
   ]
  },
  {
   "cell_type": "code",
   "execution_count": 52,
   "metadata": {},
   "outputs": [
    {
     "data": {
      "text/plain": [
       "['ironhack',\n",
       " 'be',\n",
       " 'a',\n",
       " 'global',\n",
       " 'tech',\n",
       " 'school',\n",
       " 'rank',\n",
       " 'num',\n",
       " 'worldwide',\n",
       " 'our',\n",
       " 'mission',\n",
       " 'be',\n",
       " 'to',\n",
       " 'help',\n",
       " 'people',\n",
       " 'transform',\n",
       " 'their',\n",
       " 'career',\n",
       " 'and',\n",
       " 'join',\n",
       " 'a',\n",
       " 'thrive',\n",
       " 'community',\n",
       " 'of',\n",
       " 'tech',\n",
       " 'professionals',\n",
       " 'that',\n",
       " 'love',\n",
       " 'what',\n",
       " 'they',\n",
       " 'do',\n",
       " 'this',\n",
       " 'ideology',\n",
       " 'be',\n",
       " 'reflect',\n",
       " 'in',\n",
       " 'our',\n",
       " 'teach',\n",
       " 'practice',\n",
       " 'which',\n",
       " 'consist',\n",
       " 'of',\n",
       " 'a',\n",
       " 'nine',\n",
       " 'weeks',\n",
       " 'immersive',\n",
       " 'program',\n",
       " 'ux',\n",
       " 'ui',\n",
       " 'design',\n",
       " 'or',\n",
       " 'data',\n",
       " 'analytics',\n",
       " 'course',\n",
       " 'as',\n",
       " 'well',\n",
       " 'as',\n",
       " 'a',\n",
       " 'one',\n",
       " 'week',\n",
       " 'hire',\n",
       " 'fair',\n",
       " 'aim',\n",
       " 'at',\n",
       " 'help',\n",
       " 'our',\n",
       " 'students',\n",
       " 'change',\n",
       " 'their',\n",
       " 'career',\n",
       " 'and',\n",
       " 'get',\n",
       " 'a',\n",
       " 'job',\n",
       " 'straight',\n",
       " 'after',\n",
       " 'the',\n",
       " 'course',\n",
       " 'we',\n",
       " 'be',\n",
       " 'present',\n",
       " 'in',\n",
       " 'countries',\n",
       " 'and',\n",
       " 'have',\n",
       " 'campuses',\n",
       " 'in',\n",
       " 'locations',\n",
       " 'madrid',\n",
       " 'barcelona',\n",
       " 'miami',\n",
       " 'paris',\n",
       " 'mexico',\n",
       " 'city',\n",
       " 'berlin',\n",
       " 'amsterdam',\n",
       " 'sao',\n",
       " 'paulo',\n",
       " 'and',\n",
       " 'lisbon']"
      ]
     },
     "execution_count": 52,
     "metadata": {},
     "output_type": "execute_result"
    }
   ],
   "source": [
    "stem_and_lemmatize(s)"
   ]
  },
  {
   "cell_type": "code",
   "execution_count": 53,
   "metadata": {},
   "outputs": [],
   "source": [
    "def remove_stopwords(l):\n",
    "    stopwords_en = stopwords.words('english')\n",
    "    clean_words = []\n",
    "    for w in l:\n",
    "        if w not in stopwords_en:\n",
    "            clean_words.append(w)\n",
    "    return clean_words"
   ]
  },
  {
   "cell_type": "code",
   "execution_count": 54,
   "metadata": {},
   "outputs": [
    {
     "name": "stdout",
     "output_type": "stream",
     "text": [
      "100 62\n"
     ]
    }
   ],
   "source": [
    "print(len(stem_and_lemmatize(s)), len(remove_stopwords(stem_and_lemmatize(s))))"
   ]
  },
  {
   "cell_type": "markdown",
   "metadata": {},
   "source": [
    "# Challenge 3"
   ]
  },
  {
   "cell_type": "code",
   "execution_count": 56,
   "metadata": {},
   "outputs": [],
   "source": [
    "from nltk.sentiment.vader import SentimentIntensityAnalyzer"
   ]
  },
  {
   "cell_type": "code",
   "execution_count": 62,
   "metadata": {},
   "outputs": [],
   "source": [
    "import zipfile\n",
    "import pandas as pd"
   ]
  },
  {
   "cell_type": "code",
   "execution_count": 65,
   "metadata": {},
   "outputs": [],
   "source": [
    "zf = zipfile.ZipFile(\"Sentiment140.csv.zip\")\n",
    "df = pd.read_csv(zf.open(\"Sentiment140.csv\"))"
   ]
  },
  {
   "cell_type": "code",
   "execution_count": 66,
   "metadata": {
    "scrolled": true
   },
   "outputs": [
    {
     "data": {
      "text/html": [
       "<div>\n",
       "<style scoped>\n",
       "    .dataframe tbody tr th:only-of-type {\n",
       "        vertical-align: middle;\n",
       "    }\n",
       "\n",
       "    .dataframe tbody tr th {\n",
       "        vertical-align: top;\n",
       "    }\n",
       "\n",
       "    .dataframe thead th {\n",
       "        text-align: right;\n",
       "    }\n",
       "</style>\n",
       "<table border=\"1\" class=\"dataframe\">\n",
       "  <thead>\n",
       "    <tr style=\"text-align: right;\">\n",
       "      <th></th>\n",
       "      <th>target</th>\n",
       "      <th>id</th>\n",
       "      <th>date</th>\n",
       "      <th>flag</th>\n",
       "      <th>user</th>\n",
       "      <th>text</th>\n",
       "    </tr>\n",
       "  </thead>\n",
       "  <tbody>\n",
       "    <tr>\n",
       "      <th>0</th>\n",
       "      <td>0</td>\n",
       "      <td>1467810369</td>\n",
       "      <td>Mon Apr 06 22:19:45 PDT 2009</td>\n",
       "      <td>NO_QUERY</td>\n",
       "      <td>_TheSpecialOne_</td>\n",
       "      <td>@switchfoot http://twitpic.com/2y1zl - Awww, t...</td>\n",
       "    </tr>\n",
       "    <tr>\n",
       "      <th>1</th>\n",
       "      <td>0</td>\n",
       "      <td>1467810672</td>\n",
       "      <td>Mon Apr 06 22:19:49 PDT 2009</td>\n",
       "      <td>NO_QUERY</td>\n",
       "      <td>scotthamilton</td>\n",
       "      <td>is upset that he can't update his Facebook by ...</td>\n",
       "    </tr>\n",
       "    <tr>\n",
       "      <th>2</th>\n",
       "      <td>0</td>\n",
       "      <td>1467810917</td>\n",
       "      <td>Mon Apr 06 22:19:53 PDT 2009</td>\n",
       "      <td>NO_QUERY</td>\n",
       "      <td>mattycus</td>\n",
       "      <td>@Kenichan I dived many times for the ball. Man...</td>\n",
       "    </tr>\n",
       "    <tr>\n",
       "      <th>3</th>\n",
       "      <td>0</td>\n",
       "      <td>1467811184</td>\n",
       "      <td>Mon Apr 06 22:19:57 PDT 2009</td>\n",
       "      <td>NO_QUERY</td>\n",
       "      <td>ElleCTF</td>\n",
       "      <td>my whole body feels itchy and like its on fire</td>\n",
       "    </tr>\n",
       "    <tr>\n",
       "      <th>4</th>\n",
       "      <td>0</td>\n",
       "      <td>1467811193</td>\n",
       "      <td>Mon Apr 06 22:19:57 PDT 2009</td>\n",
       "      <td>NO_QUERY</td>\n",
       "      <td>Karoli</td>\n",
       "      <td>@nationwideclass no, it's not behaving at all....</td>\n",
       "    </tr>\n",
       "  </tbody>\n",
       "</table>\n",
       "</div>"
      ],
      "text/plain": [
       "   target          id                          date      flag  \\\n",
       "0       0  1467810369  Mon Apr 06 22:19:45 PDT 2009  NO_QUERY   \n",
       "1       0  1467810672  Mon Apr 06 22:19:49 PDT 2009  NO_QUERY   \n",
       "2       0  1467810917  Mon Apr 06 22:19:53 PDT 2009  NO_QUERY   \n",
       "3       0  1467811184  Mon Apr 06 22:19:57 PDT 2009  NO_QUERY   \n",
       "4       0  1467811193  Mon Apr 06 22:19:57 PDT 2009  NO_QUERY   \n",
       "\n",
       "              user                                               text  \n",
       "0  _TheSpecialOne_  @switchfoot http://twitpic.com/2y1zl - Awww, t...  \n",
       "1    scotthamilton  is upset that he can't update his Facebook by ...  \n",
       "2         mattycus  @Kenichan I dived many times for the ball. Man...  \n",
       "3          ElleCTF    my whole body feels itchy and like its on fire   \n",
       "4           Karoli  @nationwideclass no, it's not behaving at all....  "
      ]
     },
     "execution_count": 66,
     "metadata": {},
     "output_type": "execute_result"
    }
   ],
   "source": [
    "df.head()"
   ]
  },
  {
   "cell_type": "code",
   "execution_count": 73,
   "metadata": {},
   "outputs": [],
   "source": [
    "txt = \"Ironhack is a Global Tech School ranked num 2 worldwide. Our mission is to help people transform their careers and join a thriving community of tech professionals that love what they do.\""
   ]
  },
  {
   "cell_type": "code",
   "execution_count": 74,
   "metadata": {},
   "outputs": [],
   "source": [
    "analyzer = SentimentIntensityAnalyzer()"
   ]
  },
  {
   "cell_type": "code",
   "execution_count": 75,
   "metadata": {},
   "outputs": [
    {
     "data": {
      "text/plain": [
       "{'neg': 0.0, 'neu': 0.741, 'pos': 0.259, 'compound': 0.8442}"
      ]
     },
     "execution_count": 75,
     "metadata": {},
     "output_type": "execute_result"
    }
   ],
   "source": [
    "analyzer.polarity_scores(txt)"
   ]
  },
  {
   "cell_type": "code",
   "execution_count": 76,
   "metadata": {},
   "outputs": [
    {
     "data": {
      "text/html": [
       "<div>\n",
       "<style scoped>\n",
       "    .dataframe tbody tr th:only-of-type {\n",
       "        vertical-align: middle;\n",
       "    }\n",
       "\n",
       "    .dataframe tbody tr th {\n",
       "        vertical-align: top;\n",
       "    }\n",
       "\n",
       "    .dataframe thead th {\n",
       "        text-align: right;\n",
       "    }\n",
       "</style>\n",
       "<table border=\"1\" class=\"dataframe\">\n",
       "  <thead>\n",
       "    <tr style=\"text-align: right;\">\n",
       "      <th></th>\n",
       "      <th>target</th>\n",
       "      <th>id</th>\n",
       "      <th>date</th>\n",
       "      <th>flag</th>\n",
       "      <th>user</th>\n",
       "      <th>text</th>\n",
       "      <th>text_processed</th>\n",
       "    </tr>\n",
       "  </thead>\n",
       "  <tbody>\n",
       "    <tr>\n",
       "      <th>1485880</th>\n",
       "      <td>4</td>\n",
       "      <td>2067961661</td>\n",
       "      <td>Sun Jun 07 13:15:26 PDT 2009</td>\n",
       "      <td>NO_QUERY</td>\n",
       "      <td>Stripes_Eckit</td>\n",
       "      <td>@Stripes_Megs  where the hell are you? you're ...</td>\n",
       "      <td>[ironhack, global, tech, school, rank, num, wo...</td>\n",
       "    </tr>\n",
       "    <tr>\n",
       "      <th>372520</th>\n",
       "      <td>0</td>\n",
       "      <td>2050756845</td>\n",
       "      <td>Fri Jun 05 19:14:18 PDT 2009</td>\n",
       "      <td>NO_QUERY</td>\n",
       "      <td>chyeahitsalicia</td>\n",
       "      <td>@imdamama I doooo love you! I had class tonight?</td>\n",
       "      <td>[ironhack, global, tech, school, rank, num, wo...</td>\n",
       "    </tr>\n",
       "    <tr>\n",
       "      <th>458112</th>\n",
       "      <td>0</td>\n",
       "      <td>2071786815</td>\n",
       "      <td>Sun Jun 07 19:55:37 PDT 2009</td>\n",
       "      <td>NO_QUERY</td>\n",
       "      <td>Momto3blessings</td>\n",
       "      <td>Dory walked out of her room and said MOM DO NO...</td>\n",
       "      <td>[ironhack, global, tech, school, rank, num, wo...</td>\n",
       "    </tr>\n",
       "    <tr>\n",
       "      <th>1128305</th>\n",
       "      <td>4</td>\n",
       "      <td>1975329749</td>\n",
       "      <td>Sat May 30 14:55:54 PDT 2009</td>\n",
       "      <td>NO_QUERY</td>\n",
       "      <td>xdiamndzx</td>\n",
       "      <td>@PaulaAbdul i luv ur jewlerry  the best ever! ...</td>\n",
       "      <td>[ironhack, global, tech, school, rank, num, wo...</td>\n",
       "    </tr>\n",
       "    <tr>\n",
       "      <th>1003930</th>\n",
       "      <td>4</td>\n",
       "      <td>1880363604</td>\n",
       "      <td>Fri May 22 00:58:54 PDT 2009</td>\n",
       "      <td>NO_QUERY</td>\n",
       "      <td>i_knowmyrank</td>\n",
       "      <td>@gelr0cks hehe! You love me for that! If you g...</td>\n",
       "      <td>[ironhack, global, tech, school, rank, num, wo...</td>\n",
       "    </tr>\n",
       "  </tbody>\n",
       "</table>\n",
       "</div>"
      ],
      "text/plain": [
       "         target          id                          date      flag  \\\n",
       "1485880       4  2067961661  Sun Jun 07 13:15:26 PDT 2009  NO_QUERY   \n",
       "372520        0  2050756845  Fri Jun 05 19:14:18 PDT 2009  NO_QUERY   \n",
       "458112        0  2071786815  Sun Jun 07 19:55:37 PDT 2009  NO_QUERY   \n",
       "1128305       4  1975329749  Sat May 30 14:55:54 PDT 2009  NO_QUERY   \n",
       "1003930       4  1880363604  Fri May 22 00:58:54 PDT 2009  NO_QUERY   \n",
       "\n",
       "                    user                                               text  \\\n",
       "1485880    Stripes_Eckit  @Stripes_Megs  where the hell are you? you're ...   \n",
       "372520   chyeahitsalicia  @imdamama I doooo love you! I had class tonight?    \n",
       "458112   Momto3blessings  Dory walked out of her room and said MOM DO NO...   \n",
       "1128305        xdiamndzx  @PaulaAbdul i luv ur jewlerry  the best ever! ...   \n",
       "1003930     i_knowmyrank  @gelr0cks hehe! You love me for that! If you g...   \n",
       "\n",
       "                                            text_processed  \n",
       "1485880  [ironhack, global, tech, school, rank, num, wo...  \n",
       "372520   [ironhack, global, tech, school, rank, num, wo...  \n",
       "458112   [ironhack, global, tech, school, rank, num, wo...  \n",
       "1128305  [ironhack, global, tech, school, rank, num, wo...  \n",
       "1003930  [ironhack, global, tech, school, rank, num, wo...  "
      ]
     },
     "execution_count": 76,
     "metadata": {},
     "output_type": "execute_result"
    }
   ],
   "source": [
    "df2 = df.sample(n = 20000)\n",
    "df2.head()"
   ]
  },
  {
   "cell_type": "code",
   "execution_count": 77,
   "metadata": {},
   "outputs": [],
   "source": [
    "df2[\"text_processed\"] = df2.text.apply(lambda x:remove_stopwords(stem_and_lemmatize(tokewords(clean_up(x)))))"
   ]
  },
  {
   "cell_type": "code",
   "execution_count": 72,
   "metadata": {},
   "outputs": [
    {
     "data": {
      "text/plain": [
       "0    [ironhack, global, tech, school, rank, num, wo...\n",
       "1    [ironhack, global, tech, school, rank, num, wo...\n",
       "2    [ironhack, global, tech, school, rank, num, wo...\n",
       "3    [ironhack, global, tech, school, rank, num, wo...\n",
       "4    [ironhack, global, tech, school, rank, num, wo...\n",
       "5    [ironhack, global, tech, school, rank, num, wo...\n",
       "6    [ironhack, global, tech, school, rank, num, wo...\n",
       "7    [ironhack, global, tech, school, rank, num, wo...\n",
       "8    [ironhack, global, tech, school, rank, num, wo...\n",
       "9    [ironhack, global, tech, school, rank, num, wo...\n",
       "Name: text_processed, dtype: object"
      ]
     },
     "execution_count": 72,
     "metadata": {},
     "output_type": "execute_result"
    }
   ],
   "source": [
    "df2[\"text_processed\"].head(10)"
   ]
  },
  {
   "cell_type": "code",
   "execution_count": 78,
   "metadata": {},
   "outputs": [],
   "source": [
    "bag_words=[]\n",
    "for i in df2['text_processed']:\n",
    "    bag_words += i"
   ]
  },
  {
   "cell_type": "code",
   "execution_count": 79,
   "metadata": {},
   "outputs": [],
   "source": [
    "from nltk.probability import FreqDist"
   ]
  },
  {
   "cell_type": "code",
   "execution_count": 80,
   "metadata": {},
   "outputs": [],
   "source": [
    "fdist = FreqDist(bag_words)"
   ]
  },
  {
   "cell_type": "code",
   "execution_count": 81,
   "metadata": {},
   "outputs": [
    {
     "data": {
      "text/plain": [
       "[('tech', 40000),\n",
       " ('help', 40000),\n",
       " ('career', 40000),\n",
       " ('course', 40000),\n",
       " ('ironhack', 20000),\n",
       " ('global', 20000),\n",
       " ('school', 20000),\n",
       " ('rank', 20000),\n",
       " ('num', 20000),\n",
       " ('worldwide', 20000),\n",
       " ('mission', 20000),\n",
       " ('people', 20000),\n",
       " ('transform', 20000),\n",
       " ('join', 20000),\n",
       " ('thrive', 20000),\n",
       " ('community', 20000),\n",
       " ('professionals', 20000),\n",
       " ('love', 20000),\n",
       " ('ideology', 20000),\n",
       " ('reflect', 20000),\n",
       " ('teach', 20000),\n",
       " ('practice', 20000),\n",
       " ('consist', 20000),\n",
       " ('nine', 20000),\n",
       " ('weeks', 20000),\n",
       " ('immersive', 20000),\n",
       " ('program', 20000),\n",
       " ('ux', 20000),\n",
       " ('ui', 20000),\n",
       " ('design', 20000),\n",
       " ('data', 20000),\n",
       " ('analytics', 20000),\n",
       " ('well', 20000),\n",
       " ('one', 20000),\n",
       " ('week', 20000),\n",
       " ('hire', 20000),\n",
       " ('fair', 20000),\n",
       " ('aim', 20000),\n",
       " ('students', 20000),\n",
       " ('change', 20000),\n",
       " ('get', 20000),\n",
       " ('job', 20000),\n",
       " ('straight', 20000),\n",
       " ('present', 20000),\n",
       " ('countries', 20000),\n",
       " ('campuses', 20000),\n",
       " ('locations', 20000),\n",
       " ('madrid', 20000),\n",
       " ('barcelona', 20000),\n",
       " ('miami', 20000),\n",
       " ('paris', 20000),\n",
       " ('mexico', 20000),\n",
       " ('city', 20000),\n",
       " ('berlin', 20000),\n",
       " ('amsterdam', 20000),\n",
       " ('sao', 20000),\n",
       " ('paulo', 20000),\n",
       " ('lisbon', 20000)]"
      ]
     },
     "execution_count": 81,
     "metadata": {},
     "output_type": "execute_result"
    }
   ],
   "source": [
    "frecuencias = fdist.most_common(5000)\n",
    "frecuencias"
   ]
  },
  {
   "cell_type": "code",
   "execution_count": 82,
   "metadata": {},
   "outputs": [],
   "source": [
    "frecuencias_colums = [f[0] for f in frecuencias]"
   ]
  },
  {
   "cell_type": "code",
   "execution_count": 83,
   "metadata": {},
   "outputs": [],
   "source": [
    "matrix=[]\n",
    "for i in df2['text_processed']:\n",
    "    filas = []\n",
    "    for j in frecuencias_colums:\n",
    "        if j in i:\n",
    "            filas.append(True)\n",
    "        else:\n",
    "            filas.append(False)\n",
    "    matrix.append(filas)"
   ]
  },
  {
   "cell_type": "code",
   "execution_count": 84,
   "metadata": {},
   "outputs": [],
   "source": [
    "matrix_pd = pd.DataFrame(matrix, columns = frecuencias_colums, index = df2.index)"
   ]
  },
  {
   "cell_type": "code",
   "execution_count": 85,
   "metadata": {},
   "outputs": [
    {
     "data": {
      "text/html": [
       "<div>\n",
       "<style scoped>\n",
       "    .dataframe tbody tr th:only-of-type {\n",
       "        vertical-align: middle;\n",
       "    }\n",
       "\n",
       "    .dataframe tbody tr th {\n",
       "        vertical-align: top;\n",
       "    }\n",
       "\n",
       "    .dataframe thead th {\n",
       "        text-align: right;\n",
       "    }\n",
       "</style>\n",
       "<table border=\"1\" class=\"dataframe\">\n",
       "  <thead>\n",
       "    <tr style=\"text-align: right;\">\n",
       "      <th></th>\n",
       "      <th>tech</th>\n",
       "      <th>help</th>\n",
       "      <th>career</th>\n",
       "      <th>course</th>\n",
       "      <th>ironhack</th>\n",
       "      <th>global</th>\n",
       "      <th>school</th>\n",
       "      <th>rank</th>\n",
       "      <th>num</th>\n",
       "      <th>worldwide</th>\n",
       "      <th>...</th>\n",
       "      <th>barcelona</th>\n",
       "      <th>miami</th>\n",
       "      <th>paris</th>\n",
       "      <th>mexico</th>\n",
       "      <th>city</th>\n",
       "      <th>berlin</th>\n",
       "      <th>amsterdam</th>\n",
       "      <th>sao</th>\n",
       "      <th>paulo</th>\n",
       "      <th>lisbon</th>\n",
       "    </tr>\n",
       "  </thead>\n",
       "  <tbody>\n",
       "    <tr>\n",
       "      <th>1485880</th>\n",
       "      <td>True</td>\n",
       "      <td>True</td>\n",
       "      <td>True</td>\n",
       "      <td>True</td>\n",
       "      <td>True</td>\n",
       "      <td>True</td>\n",
       "      <td>True</td>\n",
       "      <td>True</td>\n",
       "      <td>True</td>\n",
       "      <td>True</td>\n",
       "      <td>...</td>\n",
       "      <td>True</td>\n",
       "      <td>True</td>\n",
       "      <td>True</td>\n",
       "      <td>True</td>\n",
       "      <td>True</td>\n",
       "      <td>True</td>\n",
       "      <td>True</td>\n",
       "      <td>True</td>\n",
       "      <td>True</td>\n",
       "      <td>True</td>\n",
       "    </tr>\n",
       "    <tr>\n",
       "      <th>372520</th>\n",
       "      <td>True</td>\n",
       "      <td>True</td>\n",
       "      <td>True</td>\n",
       "      <td>True</td>\n",
       "      <td>True</td>\n",
       "      <td>True</td>\n",
       "      <td>True</td>\n",
       "      <td>True</td>\n",
       "      <td>True</td>\n",
       "      <td>True</td>\n",
       "      <td>...</td>\n",
       "      <td>True</td>\n",
       "      <td>True</td>\n",
       "      <td>True</td>\n",
       "      <td>True</td>\n",
       "      <td>True</td>\n",
       "      <td>True</td>\n",
       "      <td>True</td>\n",
       "      <td>True</td>\n",
       "      <td>True</td>\n",
       "      <td>True</td>\n",
       "    </tr>\n",
       "    <tr>\n",
       "      <th>458112</th>\n",
       "      <td>True</td>\n",
       "      <td>True</td>\n",
       "      <td>True</td>\n",
       "      <td>True</td>\n",
       "      <td>True</td>\n",
       "      <td>True</td>\n",
       "      <td>True</td>\n",
       "      <td>True</td>\n",
       "      <td>True</td>\n",
       "      <td>True</td>\n",
       "      <td>...</td>\n",
       "      <td>True</td>\n",
       "      <td>True</td>\n",
       "      <td>True</td>\n",
       "      <td>True</td>\n",
       "      <td>True</td>\n",
       "      <td>True</td>\n",
       "      <td>True</td>\n",
       "      <td>True</td>\n",
       "      <td>True</td>\n",
       "      <td>True</td>\n",
       "    </tr>\n",
       "    <tr>\n",
       "      <th>1128305</th>\n",
       "      <td>True</td>\n",
       "      <td>True</td>\n",
       "      <td>True</td>\n",
       "      <td>True</td>\n",
       "      <td>True</td>\n",
       "      <td>True</td>\n",
       "      <td>True</td>\n",
       "      <td>True</td>\n",
       "      <td>True</td>\n",
       "      <td>True</td>\n",
       "      <td>...</td>\n",
       "      <td>True</td>\n",
       "      <td>True</td>\n",
       "      <td>True</td>\n",
       "      <td>True</td>\n",
       "      <td>True</td>\n",
       "      <td>True</td>\n",
       "      <td>True</td>\n",
       "      <td>True</td>\n",
       "      <td>True</td>\n",
       "      <td>True</td>\n",
       "    </tr>\n",
       "    <tr>\n",
       "      <th>1003930</th>\n",
       "      <td>True</td>\n",
       "      <td>True</td>\n",
       "      <td>True</td>\n",
       "      <td>True</td>\n",
       "      <td>True</td>\n",
       "      <td>True</td>\n",
       "      <td>True</td>\n",
       "      <td>True</td>\n",
       "      <td>True</td>\n",
       "      <td>True</td>\n",
       "      <td>...</td>\n",
       "      <td>True</td>\n",
       "      <td>True</td>\n",
       "      <td>True</td>\n",
       "      <td>True</td>\n",
       "      <td>True</td>\n",
       "      <td>True</td>\n",
       "      <td>True</td>\n",
       "      <td>True</td>\n",
       "      <td>True</td>\n",
       "      <td>True</td>\n",
       "    </tr>\n",
       "  </tbody>\n",
       "</table>\n",
       "<p>5 rows × 58 columns</p>\n",
       "</div>"
      ],
      "text/plain": [
       "         tech  help  career  course  ironhack  global  school  rank   num  \\\n",
       "1485880  True  True    True    True      True    True    True  True  True   \n",
       "372520   True  True    True    True      True    True    True  True  True   \n",
       "458112   True  True    True    True      True    True    True  True  True   \n",
       "1128305  True  True    True    True      True    True    True  True  True   \n",
       "1003930  True  True    True    True      True    True    True  True  True   \n",
       "\n",
       "         worldwide  ...  barcelona  miami  paris  mexico  city  berlin  \\\n",
       "1485880       True  ...       True   True   True    True  True    True   \n",
       "372520        True  ...       True   True   True    True  True    True   \n",
       "458112        True  ...       True   True   True    True  True    True   \n",
       "1128305       True  ...       True   True   True    True  True    True   \n",
       "1003930       True  ...       True   True   True    True  True    True   \n",
       "\n",
       "         amsterdam   sao  paulo  lisbon  \n",
       "1485880       True  True   True    True  \n",
       "372520        True  True   True    True  \n",
       "458112        True  True   True    True  \n",
       "1128305       True  True   True    True  \n",
       "1003930       True  True   True    True  \n",
       "\n",
       "[5 rows x 58 columns]"
      ]
     },
     "execution_count": 85,
     "metadata": {},
     "output_type": "execute_result"
    }
   ],
   "source": [
    "matrix_pd.head()"
   ]
  },
  {
   "cell_type": "code",
   "execution_count": 86,
   "metadata": {},
   "outputs": [],
   "source": [
    "matrix_pd['is_positive'] = df2['target'].apply(lambda x:True if x==4 else False)"
   ]
  },
  {
   "cell_type": "code",
   "execution_count": 87,
   "metadata": {},
   "outputs": [
    {
     "data": {
      "text/html": [
       "<div>\n",
       "<style scoped>\n",
       "    .dataframe tbody tr th:only-of-type {\n",
       "        vertical-align: middle;\n",
       "    }\n",
       "\n",
       "    .dataframe tbody tr th {\n",
       "        vertical-align: top;\n",
       "    }\n",
       "\n",
       "    .dataframe thead th {\n",
       "        text-align: right;\n",
       "    }\n",
       "</style>\n",
       "<table border=\"1\" class=\"dataframe\">\n",
       "  <thead>\n",
       "    <tr style=\"text-align: right;\">\n",
       "      <th></th>\n",
       "      <th>tech</th>\n",
       "      <th>help</th>\n",
       "      <th>career</th>\n",
       "      <th>course</th>\n",
       "      <th>ironhack</th>\n",
       "      <th>global</th>\n",
       "      <th>school</th>\n",
       "      <th>rank</th>\n",
       "      <th>num</th>\n",
       "      <th>worldwide</th>\n",
       "      <th>...</th>\n",
       "      <th>miami</th>\n",
       "      <th>paris</th>\n",
       "      <th>mexico</th>\n",
       "      <th>city</th>\n",
       "      <th>berlin</th>\n",
       "      <th>amsterdam</th>\n",
       "      <th>sao</th>\n",
       "      <th>paulo</th>\n",
       "      <th>lisbon</th>\n",
       "      <th>is_positive</th>\n",
       "    </tr>\n",
       "  </thead>\n",
       "  <tbody>\n",
       "    <tr>\n",
       "      <th>1485880</th>\n",
       "      <td>True</td>\n",
       "      <td>True</td>\n",
       "      <td>True</td>\n",
       "      <td>True</td>\n",
       "      <td>True</td>\n",
       "      <td>True</td>\n",
       "      <td>True</td>\n",
       "      <td>True</td>\n",
       "      <td>True</td>\n",
       "      <td>True</td>\n",
       "      <td>...</td>\n",
       "      <td>True</td>\n",
       "      <td>True</td>\n",
       "      <td>True</td>\n",
       "      <td>True</td>\n",
       "      <td>True</td>\n",
       "      <td>True</td>\n",
       "      <td>True</td>\n",
       "      <td>True</td>\n",
       "      <td>True</td>\n",
       "      <td>True</td>\n",
       "    </tr>\n",
       "    <tr>\n",
       "      <th>372520</th>\n",
       "      <td>True</td>\n",
       "      <td>True</td>\n",
       "      <td>True</td>\n",
       "      <td>True</td>\n",
       "      <td>True</td>\n",
       "      <td>True</td>\n",
       "      <td>True</td>\n",
       "      <td>True</td>\n",
       "      <td>True</td>\n",
       "      <td>True</td>\n",
       "      <td>...</td>\n",
       "      <td>True</td>\n",
       "      <td>True</td>\n",
       "      <td>True</td>\n",
       "      <td>True</td>\n",
       "      <td>True</td>\n",
       "      <td>True</td>\n",
       "      <td>True</td>\n",
       "      <td>True</td>\n",
       "      <td>True</td>\n",
       "      <td>False</td>\n",
       "    </tr>\n",
       "    <tr>\n",
       "      <th>458112</th>\n",
       "      <td>True</td>\n",
       "      <td>True</td>\n",
       "      <td>True</td>\n",
       "      <td>True</td>\n",
       "      <td>True</td>\n",
       "      <td>True</td>\n",
       "      <td>True</td>\n",
       "      <td>True</td>\n",
       "      <td>True</td>\n",
       "      <td>True</td>\n",
       "      <td>...</td>\n",
       "      <td>True</td>\n",
       "      <td>True</td>\n",
       "      <td>True</td>\n",
       "      <td>True</td>\n",
       "      <td>True</td>\n",
       "      <td>True</td>\n",
       "      <td>True</td>\n",
       "      <td>True</td>\n",
       "      <td>True</td>\n",
       "      <td>False</td>\n",
       "    </tr>\n",
       "    <tr>\n",
       "      <th>1128305</th>\n",
       "      <td>True</td>\n",
       "      <td>True</td>\n",
       "      <td>True</td>\n",
       "      <td>True</td>\n",
       "      <td>True</td>\n",
       "      <td>True</td>\n",
       "      <td>True</td>\n",
       "      <td>True</td>\n",
       "      <td>True</td>\n",
       "      <td>True</td>\n",
       "      <td>...</td>\n",
       "      <td>True</td>\n",
       "      <td>True</td>\n",
       "      <td>True</td>\n",
       "      <td>True</td>\n",
       "      <td>True</td>\n",
       "      <td>True</td>\n",
       "      <td>True</td>\n",
       "      <td>True</td>\n",
       "      <td>True</td>\n",
       "      <td>True</td>\n",
       "    </tr>\n",
       "    <tr>\n",
       "      <th>1003930</th>\n",
       "      <td>True</td>\n",
       "      <td>True</td>\n",
       "      <td>True</td>\n",
       "      <td>True</td>\n",
       "      <td>True</td>\n",
       "      <td>True</td>\n",
       "      <td>True</td>\n",
       "      <td>True</td>\n",
       "      <td>True</td>\n",
       "      <td>True</td>\n",
       "      <td>...</td>\n",
       "      <td>True</td>\n",
       "      <td>True</td>\n",
       "      <td>True</td>\n",
       "      <td>True</td>\n",
       "      <td>True</td>\n",
       "      <td>True</td>\n",
       "      <td>True</td>\n",
       "      <td>True</td>\n",
       "      <td>True</td>\n",
       "      <td>True</td>\n",
       "    </tr>\n",
       "  </tbody>\n",
       "</table>\n",
       "<p>5 rows × 59 columns</p>\n",
       "</div>"
      ],
      "text/plain": [
       "         tech  help  career  course  ironhack  global  school  rank   num  \\\n",
       "1485880  True  True    True    True      True    True    True  True  True   \n",
       "372520   True  True    True    True      True    True    True  True  True   \n",
       "458112   True  True    True    True      True    True    True  True  True   \n",
       "1128305  True  True    True    True      True    True    True  True  True   \n",
       "1003930  True  True    True    True      True    True    True  True  True   \n",
       "\n",
       "         worldwide  ...  miami  paris  mexico  city  berlin  amsterdam   sao  \\\n",
       "1485880       True  ...   True   True    True  True    True       True  True   \n",
       "372520        True  ...   True   True    True  True    True       True  True   \n",
       "458112        True  ...   True   True    True  True    True       True  True   \n",
       "1128305       True  ...   True   True    True  True    True       True  True   \n",
       "1003930       True  ...   True   True    True  True    True       True  True   \n",
       "\n",
       "         paulo  lisbon  is_positive  \n",
       "1485880   True    True         True  \n",
       "372520    True    True        False  \n",
       "458112    True    True        False  \n",
       "1128305   True    True         True  \n",
       "1003930   True    True         True  \n",
       "\n",
       "[5 rows x 59 columns]"
      ]
     },
     "execution_count": 87,
     "metadata": {},
     "output_type": "execute_result"
    }
   ],
   "source": [
    "matrix_pd.head()"
   ]
  },
  {
   "cell_type": "code",
   "execution_count": 88,
   "metadata": {},
   "outputs": [],
   "source": [
    "lista = []\n",
    "for i in matrix_pd.index:\n",
    "    dicc = {}\n",
    "    for j in matrix_pd.columns[:-1]:\n",
    "        dicc[j] = matrix_pd.loc[i,j]\n",
    "    lista.append((dicc,matrix_pd.loc[i,\"is_positive\"]))"
   ]
  },
  {
   "cell_type": "code",
   "execution_count": 89,
   "metadata": {},
   "outputs": [
    {
     "data": {
      "text/plain": [
       "({'tech': True,\n",
       "  'help': True,\n",
       "  'career': True,\n",
       "  'course': True,\n",
       "  'ironhack': True,\n",
       "  'global': True,\n",
       "  'school': True,\n",
       "  'rank': True,\n",
       "  'num': True,\n",
       "  'worldwide': True,\n",
       "  'mission': True,\n",
       "  'people': True,\n",
       "  'transform': True,\n",
       "  'join': True,\n",
       "  'thrive': True,\n",
       "  'community': True,\n",
       "  'professionals': True,\n",
       "  'love': True,\n",
       "  'ideology': True,\n",
       "  'reflect': True,\n",
       "  'teach': True,\n",
       "  'practice': True,\n",
       "  'consist': True,\n",
       "  'nine': True,\n",
       "  'weeks': True,\n",
       "  'immersive': True,\n",
       "  'program': True,\n",
       "  'ux': True,\n",
       "  'ui': True,\n",
       "  'design': True,\n",
       "  'data': True,\n",
       "  'analytics': True,\n",
       "  'well': True,\n",
       "  'one': True,\n",
       "  'week': True,\n",
       "  'hire': True,\n",
       "  'fair': True,\n",
       "  'aim': True,\n",
       "  'students': True,\n",
       "  'change': True,\n",
       "  'get': True,\n",
       "  'job': True,\n",
       "  'straight': True,\n",
       "  'present': True,\n",
       "  'countries': True,\n",
       "  'campuses': True,\n",
       "  'locations': True,\n",
       "  'madrid': True,\n",
       "  'barcelona': True,\n",
       "  'miami': True,\n",
       "  'paris': True,\n",
       "  'mexico': True,\n",
       "  'city': True,\n",
       "  'berlin': True,\n",
       "  'amsterdam': True,\n",
       "  'sao': True,\n",
       "  'paulo': True,\n",
       "  'lisbon': True},\n",
       " False)"
      ]
     },
     "execution_count": 89,
     "metadata": {},
     "output_type": "execute_result"
    }
   ],
   "source": [
    "lista[10]"
   ]
  },
  {
   "cell_type": "code",
   "execution_count": 90,
   "metadata": {},
   "outputs": [],
   "source": [
    "training_set = lista[:19000]\n",
    "testing_set = lista[19000:]"
   ]
  },
  {
   "cell_type": "code",
   "execution_count": 91,
   "metadata": {},
   "outputs": [],
   "source": [
    "from nltk.classify import NaiveBayesClassifier\n",
    "import nltk.classify.util"
   ]
  },
  {
   "cell_type": "code",
   "execution_count": 92,
   "metadata": {},
   "outputs": [],
   "source": [
    "classifier = nltk.NaiveBayesClassifier.train(training_set)"
   ]
  },
  {
   "cell_type": "code",
   "execution_count": 93,
   "metadata": {},
   "outputs": [
    {
     "name": "stdout",
     "output_type": "stream",
     "text": [
      "Classifier accuracy percet 51.7\n"
     ]
    }
   ],
   "source": [
    "print(\"Classifier accuracy percet\", (nltk.classify.accuracy(classifier, testing_set))*100)"
   ]
  },
  {
   "cell_type": "code",
   "execution_count": 94,
   "metadata": {},
   "outputs": [
    {
     "name": "stdout",
     "output_type": "stream",
     "text": [
      "Most Informative Features\n",
      "                   miami = True            False : True   =      1.0 : 1.0\n",
      "                    help = True            False : True   =      1.0 : 1.0\n",
      "               immersive = True            False : True   =      1.0 : 1.0\n",
      "                  school = True            False : True   =      1.0 : 1.0\n",
      "               transform = True            False : True   =      1.0 : 1.0\n",
      "                   weeks = True            False : True   =      1.0 : 1.0\n",
      "                    nine = True            False : True   =      1.0 : 1.0\n",
      "           professionals = True            False : True   =      1.0 : 1.0\n",
      "                  lisbon = True            False : True   =      1.0 : 1.0\n",
      "                     num = True            False : True   =      1.0 : 1.0\n",
      "                 mission = True            False : True   =      1.0 : 1.0\n",
      "                    hire = True            False : True   =      1.0 : 1.0\n",
      "               worldwide = True            False : True   =      1.0 : 1.0\n",
      "                      ux = True            False : True   =      1.0 : 1.0\n",
      "                     sao = True            False : True   =      1.0 : 1.0\n"
     ]
    }
   ],
   "source": [
    "classifier.show_most_informative_features(15)"
   ]
  },
  {
   "cell_type": "code",
   "execution_count": null,
   "metadata": {},
   "outputs": [],
   "source": []
  }
 ],
 "metadata": {
  "kernelspec": {
   "display_name": "Python 3",
   "language": "python",
   "name": "python3"
  },
  "language_info": {
   "codemirror_mode": {
    "name": "ipython",
    "version": 3
   },
   "file_extension": ".py",
   "mimetype": "text/x-python",
   "name": "python",
   "nbconvert_exporter": "python",
   "pygments_lexer": "ipython3",
   "version": "3.7.6"
  }
 },
 "nbformat": 4,
 "nbformat_minor": 4
}
